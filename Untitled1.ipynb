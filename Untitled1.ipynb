{
 "cells": [
  {
   "cell_type": "code",
   "execution_count": 2,
   "id": "db0655f3-065c-4e82-9688-1e7fd7165c68",
   "metadata": {
    "tags": []
   },
   "outputs": [],
   "source": [
    "import pandas as pd\n",
    "import numpy as np\n",
    "import matplotlib.pyplot as plt\n",
    "\n",
    "from sklearn.linear_model import LinearRegression\n",
    "from sklearn.model_selection import train_test_split, cross_val_score\n",
    "from sklearn.preprocessing import PolynomialFeatures, StandardScaler, OneHotEncoder\n",
    "from sklearn.compose import ColumnTransformer\n",
    "from sklearn.impute import SimpleImputer\n",
    "\n",
    "from sklearn import metrics\n",
    "from sklearn.linear_model import Lasso\n",
    "from sklearn.linear_model import ElasticNet"
   ]
  },
  {
   "cell_type": "code",
   "execution_count": 12,
   "id": "38c6f94d-239d-4746-bb89-823fa8c00a3d",
   "metadata": {
    "tags": []
   },
   "outputs": [
    {
     "name": "stdout",
     "output_type": "stream",
     "text": [
      "Training R-squared: 0.9317873040238661\n",
      "Test R-squared: 0.8121825601943086\n",
      "Mean Squared Error: 1055125309.967956\n"
     ]
    },
    {
     "name": "stderr",
     "output_type": "stream",
     "text": [
      "C:\\Users\\kaitl\\anaconda3\\Lib\\site-packages\\sklearn\\linear_model\\_coordinate_descent.py:628: ConvergenceWarning: Objective did not converge. You might want to increase the number of iterations, check the scale of the features or consider increasing regularisation. Duality gap: 3.861e+11, tolerance: 1.041e+09\n",
      "  model = cd_fast.enet_coordinate_descent(\n"
     ]
    }
   ],
   "source": [
    "df6 = pd.read_csv('datasets/df6.csv')\n",
    "df6 = df6.dropna()\n",
    "df6_X = df6.drop(columns=['Unnamed: 0', 'Id', 'SalePrice'])\n",
    "df6_y = df6['SalePrice']\n",
    "X6_train, X6_test, y6_train, y6_test = train_test_split(df6_X, df6_y, test_size=0.2, random_state=4)\n",
    "df6_train_str = list(X6_train.select_dtypes(include=['object']).columns)\n",
    "df6_test_str = list(X6_test.select_dtypes(include=['object']).columns)\n",
    "df6_train_num = list(X6_train.select_dtypes(include=['int', 'float']).columns)\n",
    "df6_test_num = list(X6_test.select_dtypes(include=['int', 'float']).columns)\n",
    "\n",
    "# Create a ColumnTransformer with PolynomialFeatures, StandardScaler, and OneHotEncoder\n",
    "ct = ColumnTransformer([\n",
    "    ('poly', PolynomialFeatures(degree=2, include_bias=False), df6_train_num),\n",
    "    ('scaler', StandardScaler(), df6_train_num),\n",
    "    ('oh', OneHotEncoder(sparse_output=False, drop='first'), df6_train_str)\n",
    "], remainder='passthrough')\n",
    "\n",
    "# Fit and transform the training data using the ColumnTransformer\n",
    "X6_train_transformed = ct.fit_transform(X6_train)\n",
    "\n",
    "# Transform the test data using the fitted ColumnTransformer\n",
    "X6_test_transformed = ct.transform(X6_test)\n",
    "\n",
    "# Create a Lasso model with regularization\n",
    "lasso = Lasso(alpha=70.0)  # You can adjust the alpha parameter as needed\n",
    "\n",
    "# Fit the Lasso model to the training data\n",
    "lasso.fit(X6_train_transformed, y6_train)\n",
    "\n",
    "# Calculate the R-squared score on the training and test data\n",
    "train_score = lasso.score(X6_train_transformed, y6_train)\n",
    "test_score = lasso.score(X6_test_transformed, y6_test)\n",
    "\n",
    "# Make predictions on the test data\n",
    "y6_pred = lasso.predict(X6_test_transformed)\n",
    "\n",
    "# Calculate the mean squared error\n",
    "mse = metrics.mean_squared_error(y6_test, y6_pred)\n",
    "\n",
    "print(f\"Training R-squared: {train_score}\")\n",
    "print(f\"Test R-squared: {test_score}\")\n",
    "print(f\"Mean Squared Error: {mse}\")"
   ]
  },
  {
   "cell_type": "code",
   "execution_count": null,
   "id": "230480e8-b6cc-49cc-8070-171c7b999919",
   "metadata": {},
   "outputs": [],
   "source": []
  }
 ],
 "metadata": {
  "kernelspec": {
   "display_name": "Python 3 (ipykernel)",
   "language": "python",
   "name": "python3"
  },
  "language_info": {
   "codemirror_mode": {
    "name": "ipython",
    "version": 3
   },
   "file_extension": ".py",
   "mimetype": "text/x-python",
   "name": "python",
   "nbconvert_exporter": "python",
   "pygments_lexer": "ipython3",
   "version": "3.11.4"
  }
 },
 "nbformat": 4,
 "nbformat_minor": 5
}
