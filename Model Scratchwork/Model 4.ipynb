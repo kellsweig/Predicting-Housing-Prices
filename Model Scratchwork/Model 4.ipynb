{
 "cells": [
  {
   "cell_type": "code",
   "execution_count": 3,
   "id": "2bdb0972-ec24-4db7-a029-ee18ea7fcb58",
   "metadata": {
    "tags": []
   },
   "outputs": [],
   "source": [
    "import pandas as pd\n",
    "import numpy as np\n",
    "import matplotlib.pyplot as plt\n",
    "\n",
    "from sklearn.linear_model import LinearRegression\n",
    "from sklearn.model_selection import train_test_split, cross_val_score\n",
    "from sklearn.preprocessing import PolynomialFeatures, StandardScaler, OneHotEncoder\n",
    "from sklearn.compose import ColumnTransformer\n",
    "from sklearn.impute import SimpleImputer\n",
    "\n",
    "from sklearn import metrics\n",
    "from sklearn.linear_model import Lasso\n",
    "from sklearn.linear_model import ElasticNet\n",
    "\n",
    "pd.options.display.float_format = '{:.4f}'.format\n",
    "import statsmodels.api as sm"
   ]
  },
  {
   "cell_type": "markdown",
   "id": "6a94e5a8-199a-43df-b359-0c3fd4506fb4",
   "metadata": {},
   "source": [
    "**For this model I analayzed the heatmap/ correlations ofnumeric columns with sale price and the catterplots/ bargraphs of the categorical columns and sale price. I will start witha model with just these variables and then use stepwise regression to add and drop variables**"
   ]
  },
  {
   "cell_type": "code",
   "execution_count": 4,
   "id": "8c483560-98ee-4f22-ad6d-8905bbc71804",
   "metadata": {
    "tags": []
   },
   "outputs": [
    {
     "ename": "FileNotFoundError",
     "evalue": "[Errno 2] No such file or directory: 'datasets/clean_df.csv'",
     "output_type": "error",
     "traceback": [
      "\u001b[1;31m---------------------------------------------------------------------------\u001b[0m",
      "\u001b[1;31mFileNotFoundError\u001b[0m                         Traceback (most recent call last)",
      "Cell \u001b[1;32mIn[4], line 1\u001b[0m\n\u001b[1;32m----> 1\u001b[0m clean_data \u001b[38;5;241m=\u001b[39m pd\u001b[38;5;241m.\u001b[39mread_csv(\u001b[38;5;124m'\u001b[39m\u001b[38;5;124mdatasets/clean_df.csv\u001b[39m\u001b[38;5;124m'\u001b[39m)\n",
      "File \u001b[1;32m~\\anaconda3\\Lib\\site-packages\\pandas\\util\\_decorators.py:211\u001b[0m, in \u001b[0;36mdeprecate_kwarg.<locals>._deprecate_kwarg.<locals>.wrapper\u001b[1;34m(*args, **kwargs)\u001b[0m\n\u001b[0;32m    209\u001b[0m     \u001b[38;5;28;01melse\u001b[39;00m:\n\u001b[0;32m    210\u001b[0m         kwargs[new_arg_name] \u001b[38;5;241m=\u001b[39m new_arg_value\n\u001b[1;32m--> 211\u001b[0m \u001b[38;5;28;01mreturn\u001b[39;00m func(\u001b[38;5;241m*\u001b[39margs, \u001b[38;5;241m*\u001b[39m\u001b[38;5;241m*\u001b[39mkwargs)\n",
      "File \u001b[1;32m~\\anaconda3\\Lib\\site-packages\\pandas\\util\\_decorators.py:331\u001b[0m, in \u001b[0;36mdeprecate_nonkeyword_arguments.<locals>.decorate.<locals>.wrapper\u001b[1;34m(*args, **kwargs)\u001b[0m\n\u001b[0;32m    325\u001b[0m \u001b[38;5;28;01mif\u001b[39;00m \u001b[38;5;28mlen\u001b[39m(args) \u001b[38;5;241m>\u001b[39m num_allow_args:\n\u001b[0;32m    326\u001b[0m     warnings\u001b[38;5;241m.\u001b[39mwarn(\n\u001b[0;32m    327\u001b[0m         msg\u001b[38;5;241m.\u001b[39mformat(arguments\u001b[38;5;241m=\u001b[39m_format_argument_list(allow_args)),\n\u001b[0;32m    328\u001b[0m         \u001b[38;5;167;01mFutureWarning\u001b[39;00m,\n\u001b[0;32m    329\u001b[0m         stacklevel\u001b[38;5;241m=\u001b[39mfind_stack_level(),\n\u001b[0;32m    330\u001b[0m     )\n\u001b[1;32m--> 331\u001b[0m \u001b[38;5;28;01mreturn\u001b[39;00m func(\u001b[38;5;241m*\u001b[39margs, \u001b[38;5;241m*\u001b[39m\u001b[38;5;241m*\u001b[39mkwargs)\n",
      "File \u001b[1;32m~\\anaconda3\\Lib\\site-packages\\pandas\\io\\parsers\\readers.py:950\u001b[0m, in \u001b[0;36mread_csv\u001b[1;34m(filepath_or_buffer, sep, delimiter, header, names, index_col, usecols, squeeze, prefix, mangle_dupe_cols, dtype, engine, converters, true_values, false_values, skipinitialspace, skiprows, skipfooter, nrows, na_values, keep_default_na, na_filter, verbose, skip_blank_lines, parse_dates, infer_datetime_format, keep_date_col, date_parser, dayfirst, cache_dates, iterator, chunksize, compression, thousands, decimal, lineterminator, quotechar, quoting, doublequote, escapechar, comment, encoding, encoding_errors, dialect, error_bad_lines, warn_bad_lines, on_bad_lines, delim_whitespace, low_memory, memory_map, float_precision, storage_options)\u001b[0m\n\u001b[0;32m    935\u001b[0m kwds_defaults \u001b[38;5;241m=\u001b[39m _refine_defaults_read(\n\u001b[0;32m    936\u001b[0m     dialect,\n\u001b[0;32m    937\u001b[0m     delimiter,\n\u001b[1;32m   (...)\u001b[0m\n\u001b[0;32m    946\u001b[0m     defaults\u001b[38;5;241m=\u001b[39m{\u001b[38;5;124m\"\u001b[39m\u001b[38;5;124mdelimiter\u001b[39m\u001b[38;5;124m\"\u001b[39m: \u001b[38;5;124m\"\u001b[39m\u001b[38;5;124m,\u001b[39m\u001b[38;5;124m\"\u001b[39m},\n\u001b[0;32m    947\u001b[0m )\n\u001b[0;32m    948\u001b[0m kwds\u001b[38;5;241m.\u001b[39mupdate(kwds_defaults)\n\u001b[1;32m--> 950\u001b[0m \u001b[38;5;28;01mreturn\u001b[39;00m _read(filepath_or_buffer, kwds)\n",
      "File \u001b[1;32m~\\anaconda3\\Lib\\site-packages\\pandas\\io\\parsers\\readers.py:605\u001b[0m, in \u001b[0;36m_read\u001b[1;34m(filepath_or_buffer, kwds)\u001b[0m\n\u001b[0;32m    602\u001b[0m _validate_names(kwds\u001b[38;5;241m.\u001b[39mget(\u001b[38;5;124m\"\u001b[39m\u001b[38;5;124mnames\u001b[39m\u001b[38;5;124m\"\u001b[39m, \u001b[38;5;28;01mNone\u001b[39;00m))\n\u001b[0;32m    604\u001b[0m \u001b[38;5;66;03m# Create the parser.\u001b[39;00m\n\u001b[1;32m--> 605\u001b[0m parser \u001b[38;5;241m=\u001b[39m TextFileReader(filepath_or_buffer, \u001b[38;5;241m*\u001b[39m\u001b[38;5;241m*\u001b[39mkwds)\n\u001b[0;32m    607\u001b[0m \u001b[38;5;28;01mif\u001b[39;00m chunksize \u001b[38;5;129;01mor\u001b[39;00m iterator:\n\u001b[0;32m    608\u001b[0m     \u001b[38;5;28;01mreturn\u001b[39;00m parser\n",
      "File \u001b[1;32m~\\anaconda3\\Lib\\site-packages\\pandas\\io\\parsers\\readers.py:1442\u001b[0m, in \u001b[0;36mTextFileReader.__init__\u001b[1;34m(self, f, engine, **kwds)\u001b[0m\n\u001b[0;32m   1439\u001b[0m     \u001b[38;5;28mself\u001b[39m\u001b[38;5;241m.\u001b[39moptions[\u001b[38;5;124m\"\u001b[39m\u001b[38;5;124mhas_index_names\u001b[39m\u001b[38;5;124m\"\u001b[39m] \u001b[38;5;241m=\u001b[39m kwds[\u001b[38;5;124m\"\u001b[39m\u001b[38;5;124mhas_index_names\u001b[39m\u001b[38;5;124m\"\u001b[39m]\n\u001b[0;32m   1441\u001b[0m \u001b[38;5;28mself\u001b[39m\u001b[38;5;241m.\u001b[39mhandles: IOHandles \u001b[38;5;241m|\u001b[39m \u001b[38;5;28;01mNone\u001b[39;00m \u001b[38;5;241m=\u001b[39m \u001b[38;5;28;01mNone\u001b[39;00m\n\u001b[1;32m-> 1442\u001b[0m \u001b[38;5;28mself\u001b[39m\u001b[38;5;241m.\u001b[39m_engine \u001b[38;5;241m=\u001b[39m \u001b[38;5;28mself\u001b[39m\u001b[38;5;241m.\u001b[39m_make_engine(f, \u001b[38;5;28mself\u001b[39m\u001b[38;5;241m.\u001b[39mengine)\n",
      "File \u001b[1;32m~\\anaconda3\\Lib\\site-packages\\pandas\\io\\parsers\\readers.py:1735\u001b[0m, in \u001b[0;36mTextFileReader._make_engine\u001b[1;34m(self, f, engine)\u001b[0m\n\u001b[0;32m   1733\u001b[0m     \u001b[38;5;28;01mif\u001b[39;00m \u001b[38;5;124m\"\u001b[39m\u001b[38;5;124mb\u001b[39m\u001b[38;5;124m\"\u001b[39m \u001b[38;5;129;01mnot\u001b[39;00m \u001b[38;5;129;01min\u001b[39;00m mode:\n\u001b[0;32m   1734\u001b[0m         mode \u001b[38;5;241m+\u001b[39m\u001b[38;5;241m=\u001b[39m \u001b[38;5;124m\"\u001b[39m\u001b[38;5;124mb\u001b[39m\u001b[38;5;124m\"\u001b[39m\n\u001b[1;32m-> 1735\u001b[0m \u001b[38;5;28mself\u001b[39m\u001b[38;5;241m.\u001b[39mhandles \u001b[38;5;241m=\u001b[39m get_handle(\n\u001b[0;32m   1736\u001b[0m     f,\n\u001b[0;32m   1737\u001b[0m     mode,\n\u001b[0;32m   1738\u001b[0m     encoding\u001b[38;5;241m=\u001b[39m\u001b[38;5;28mself\u001b[39m\u001b[38;5;241m.\u001b[39moptions\u001b[38;5;241m.\u001b[39mget(\u001b[38;5;124m\"\u001b[39m\u001b[38;5;124mencoding\u001b[39m\u001b[38;5;124m\"\u001b[39m, \u001b[38;5;28;01mNone\u001b[39;00m),\n\u001b[0;32m   1739\u001b[0m     compression\u001b[38;5;241m=\u001b[39m\u001b[38;5;28mself\u001b[39m\u001b[38;5;241m.\u001b[39moptions\u001b[38;5;241m.\u001b[39mget(\u001b[38;5;124m\"\u001b[39m\u001b[38;5;124mcompression\u001b[39m\u001b[38;5;124m\"\u001b[39m, \u001b[38;5;28;01mNone\u001b[39;00m),\n\u001b[0;32m   1740\u001b[0m     memory_map\u001b[38;5;241m=\u001b[39m\u001b[38;5;28mself\u001b[39m\u001b[38;5;241m.\u001b[39moptions\u001b[38;5;241m.\u001b[39mget(\u001b[38;5;124m\"\u001b[39m\u001b[38;5;124mmemory_map\u001b[39m\u001b[38;5;124m\"\u001b[39m, \u001b[38;5;28;01mFalse\u001b[39;00m),\n\u001b[0;32m   1741\u001b[0m     is_text\u001b[38;5;241m=\u001b[39mis_text,\n\u001b[0;32m   1742\u001b[0m     errors\u001b[38;5;241m=\u001b[39m\u001b[38;5;28mself\u001b[39m\u001b[38;5;241m.\u001b[39moptions\u001b[38;5;241m.\u001b[39mget(\u001b[38;5;124m\"\u001b[39m\u001b[38;5;124mencoding_errors\u001b[39m\u001b[38;5;124m\"\u001b[39m, \u001b[38;5;124m\"\u001b[39m\u001b[38;5;124mstrict\u001b[39m\u001b[38;5;124m\"\u001b[39m),\n\u001b[0;32m   1743\u001b[0m     storage_options\u001b[38;5;241m=\u001b[39m\u001b[38;5;28mself\u001b[39m\u001b[38;5;241m.\u001b[39moptions\u001b[38;5;241m.\u001b[39mget(\u001b[38;5;124m\"\u001b[39m\u001b[38;5;124mstorage_options\u001b[39m\u001b[38;5;124m\"\u001b[39m, \u001b[38;5;28;01mNone\u001b[39;00m),\n\u001b[0;32m   1744\u001b[0m )\n\u001b[0;32m   1745\u001b[0m \u001b[38;5;28;01massert\u001b[39;00m \u001b[38;5;28mself\u001b[39m\u001b[38;5;241m.\u001b[39mhandles \u001b[38;5;129;01mis\u001b[39;00m \u001b[38;5;129;01mnot\u001b[39;00m \u001b[38;5;28;01mNone\u001b[39;00m\n\u001b[0;32m   1746\u001b[0m f \u001b[38;5;241m=\u001b[39m \u001b[38;5;28mself\u001b[39m\u001b[38;5;241m.\u001b[39mhandles\u001b[38;5;241m.\u001b[39mhandle\n",
      "File \u001b[1;32m~\\anaconda3\\Lib\\site-packages\\pandas\\io\\common.py:856\u001b[0m, in \u001b[0;36mget_handle\u001b[1;34m(path_or_buf, mode, encoding, compression, memory_map, is_text, errors, storage_options)\u001b[0m\n\u001b[0;32m    851\u001b[0m \u001b[38;5;28;01melif\u001b[39;00m \u001b[38;5;28misinstance\u001b[39m(handle, \u001b[38;5;28mstr\u001b[39m):\n\u001b[0;32m    852\u001b[0m     \u001b[38;5;66;03m# Check whether the filename is to be opened in binary mode.\u001b[39;00m\n\u001b[0;32m    853\u001b[0m     \u001b[38;5;66;03m# Binary mode does not support 'encoding' and 'newline'.\u001b[39;00m\n\u001b[0;32m    854\u001b[0m     \u001b[38;5;28;01mif\u001b[39;00m ioargs\u001b[38;5;241m.\u001b[39mencoding \u001b[38;5;129;01mand\u001b[39;00m \u001b[38;5;124m\"\u001b[39m\u001b[38;5;124mb\u001b[39m\u001b[38;5;124m\"\u001b[39m \u001b[38;5;129;01mnot\u001b[39;00m \u001b[38;5;129;01min\u001b[39;00m ioargs\u001b[38;5;241m.\u001b[39mmode:\n\u001b[0;32m    855\u001b[0m         \u001b[38;5;66;03m# Encoding\u001b[39;00m\n\u001b[1;32m--> 856\u001b[0m         handle \u001b[38;5;241m=\u001b[39m \u001b[38;5;28mopen\u001b[39m(\n\u001b[0;32m    857\u001b[0m             handle,\n\u001b[0;32m    858\u001b[0m             ioargs\u001b[38;5;241m.\u001b[39mmode,\n\u001b[0;32m    859\u001b[0m             encoding\u001b[38;5;241m=\u001b[39mioargs\u001b[38;5;241m.\u001b[39mencoding,\n\u001b[0;32m    860\u001b[0m             errors\u001b[38;5;241m=\u001b[39merrors,\n\u001b[0;32m    861\u001b[0m             newline\u001b[38;5;241m=\u001b[39m\u001b[38;5;124m\"\u001b[39m\u001b[38;5;124m\"\u001b[39m,\n\u001b[0;32m    862\u001b[0m         )\n\u001b[0;32m    863\u001b[0m     \u001b[38;5;28;01melse\u001b[39;00m:\n\u001b[0;32m    864\u001b[0m         \u001b[38;5;66;03m# Binary mode\u001b[39;00m\n\u001b[0;32m    865\u001b[0m         handle \u001b[38;5;241m=\u001b[39m \u001b[38;5;28mopen\u001b[39m(handle, ioargs\u001b[38;5;241m.\u001b[39mmode)\n",
      "\u001b[1;31mFileNotFoundError\u001b[0m: [Errno 2] No such file or directory: 'datasets/clean_df.csv'"
     ]
    }
   ],
   "source": [
    "clean_data = pd.read_csv('datasets/clean_df.csv')"
   ]
  },
  {
   "cell_type": "code",
   "execution_count": null,
   "id": "b3eefd3f-bbc5-4b65-a381-0c5bbd4ed52d",
   "metadata": {
    "tags": []
   },
   "outputs": [],
   "source": [
    "clean_data.info()"
   ]
  },
  {
   "cell_type": "code",
   "execution_count": null,
   "id": "6b830db7-b9ec-462a-be03-54c45ad7d8f1",
   "metadata": {
    "tags": []
   },
   "outputs": [],
   "source": [
    "Columns_to_include = ['SalePrice', \n",
    "                      'Overall Qual', \n",
    "                      'Gr Liv Area', \n",
    "                      'Garage Area', \n",
    "                      'Garage Cars',  \n",
    "                      'Full Bath', \n",
    "                      'Fireplaces', \n",
    "                      'MS SubClass', \n",
    "                      'Neighborhood', \n",
    "                      'Condition 1', \n",
    "                      'Exter Qual', \n",
    "                      'Bsmt Exposure', \n",
    "                      'Kitchen Qual', \n",
    "                      'Garage Qual',\n",
    "                      'Exterior 1st',\n",
    "                      'Exter Cond',\n",
    "                      'Bsmt Qual',\n",
    "                      'Bsmt Cond',\n",
    "                      'BsmtFin Type 1',\n",
    "                      'Functional',\n",
    "                      'Fireplace Qu',\n",
    "                      'Paved Drive',\n",
    "                      'Sale Type',\n",
    "                      'Garage Cond']"
   ]
  },
  {
   "cell_type": "code",
   "execution_count": null,
   "id": "e6a1fa59-61e8-45b0-8c1a-25bc6efb6c29",
   "metadata": {
    "tags": []
   },
   "outputs": [],
   "source": [
    "clean_columns = clean_data[Columns_to_include]"
   ]
  },
  {
   "cell_type": "code",
   "execution_count": null,
   "id": "83eb4dc4-d55b-455b-a874-92baaec4c0f6",
   "metadata": {
    "tags": []
   },
   "outputs": [],
   "source": [
    "# Create a list of string-type column names\n",
    "string_columns = clean_data.select_dtypes(include=['object']).columns\n",
    "\n",
    "column_to_exclude = 'Mas Vnr Type'\n",
    "\n",
    "# Use a for loop to input NA in each column in dataframe that is in list except Mas Vnr Type\n",
    "for column in string_columns:\n",
    "    if column != column_to_exclude:\n",
    "        clean_data[column].fillna('NA', inplace=True)"
   ]
  },
  {
   "cell_type": "code",
   "execution_count": null,
   "id": "076f9f9f-e05f-49eb-8669-08a1f7611e31",
   "metadata": {
    "tags": []
   },
   "outputs": [],
   "source": [
    "X1 = clean_data[Columns_to_include].drop(columns='SalePrice')\n",
    "y = clean_data['SalePrice']"
   ]
  },
  {
   "cell_type": "code",
   "execution_count": null,
   "id": "58e99f2f-aed4-4cdc-ad2f-4d4ef5fb1643",
   "metadata": {
    "tags": []
   },
   "outputs": [],
   "source": []
  },
  {
   "cell_type": "code",
   "execution_count": null,
   "id": "80311f12-fb3e-45d0-9bcc-0cc9f16b3ab8",
   "metadata": {
    "tags": []
   },
   "outputs": [],
   "source": [
    "X1.info()"
   ]
  },
  {
   "cell_type": "code",
   "execution_count": null,
   "id": "6d35a81c-0d67-46b1-8736-51d9a709692a",
   "metadata": {
    "tags": []
   },
   "outputs": [],
   "source": [
    "X1['Garage Qual'].value_counts()"
   ]
  },
  {
   "cell_type": "code",
   "execution_count": null,
   "id": "e7bea9ab-4758-4779-aa83-f0c31f4db376",
   "metadata": {
    "tags": []
   },
   "outputs": [],
   "source": [
    "y.shape"
   ]
  },
  {
   "cell_type": "code",
   "execution_count": null,
   "id": "0387a605-c627-4e03-9dbe-6d7b521ebc4e",
   "metadata": {
    "tags": []
   },
   "outputs": [],
   "source": [
    "X1_train, X1_val, y_train, y_val = train_test_split(X1, y, test_size= 0.2, random_state=24)"
   ]
  },
  {
   "cell_type": "code",
   "execution_count": null,
   "id": "847cd295-3cd8-4117-8029-e1ff6a0bdb9e",
   "metadata": {
    "tags": []
   },
   "outputs": [],
   "source": [
    "X1_str = list(X1.select_dtypes(include=['object']).columns)"
   ]
  },
  {
   "cell_type": "code",
   "execution_count": null,
   "id": "8f8ac160-a891-4bec-948a-841e7e047dc2",
   "metadata": {
    "tags": []
   },
   "outputs": [],
   "source": [
    "#I can either add imputer to the column transformer\n",
    "#or if I don't add polynomical features back in, I can just remove ct & run each separate\n",
    "#\n",
    "ct = ColumnTransformer([('oh', OneHotEncoder(sparse_output=False, handle_unknown='ignore', drop='first'), X1_str)\n",
    "], remainder='passthrough')  \n",
    "\n",
    "# Fit and transform the training data using the ColumnTransformer\n",
    "X1_train_transformed = ct.fit_transform(X1_train)\n",
    "\n",
    "# Transform the test data using the fitted ColumnTransformer\n",
    "X1_val_transformed = ct.transform(X1_val)\n",
    "\n",
    "\n",
    "#Double-check this... why would I need an imputer? I shouldn't have any numeric columns with missings\n",
    "imputer = SimpleImputer(strategy='median')\n",
    "X1_train_transformed = imputer.fit_transform(X1_train_transformed)\n",
    "X1_val_transofrmed = imputer.transform(X1_val_transformed)\n"
   ]
  },
  {
   "cell_type": "code",
   "execution_count": null,
   "id": "5531e85c-ab99-4a7c-a3bb-07bf472dedae",
   "metadata": {
    "tags": []
   },
   "outputs": [],
   "source": [
    "lr=LinearRegression()"
   ]
  },
  {
   "cell_type": "code",
   "execution_count": null,
   "id": "875011b1-971d-404f-9df7-2ced70d7ef84",
   "metadata": {
    "tags": []
   },
   "outputs": [],
   "source": [
    "lr.fit(X1_train_transformed, y_train)"
   ]
  },
  {
   "cell_type": "code",
   "execution_count": null,
   "id": "985c7c79-a8a9-4a81-8a82-799d52983487",
   "metadata": {
    "tags": []
   },
   "outputs": [],
   "source": [
    "r2_train = lr.score(X1_train_transformed, y_train)\n",
    "r2_val = lr.score(X1_val_transformed, y_val)\n",
    "print(r2_train)\n",
    "print(r2_val)"
   ]
  },
  {
   "cell_type": "code",
   "execution_count": null,
   "id": "af87b785-f798-4f85-9add-23d085319912",
   "metadata": {},
   "outputs": [],
   "source": [
    "y_preds_train = lr.predict(X1_train_transformed)\n",
    "metrics.mean_squared_error(y_train, y_preds_train)"
   ]
  },
  {
   "cell_type": "code",
   "execution_count": null,
   "id": "8eeae0f5-f6b6-4de5-94f0-fbcd6daa8d4e",
   "metadata": {
    "tags": []
   },
   "outputs": [],
   "source": [
    "y_preds_val = lr.predict(X1_val_transformed)\n",
    "metrics.mean_squared_error(y_val, y_preds_val)"
   ]
  },
  {
   "cell_type": "code",
   "execution_count": null,
   "id": "e49dba63-9991-4fa1-90af-c2c530ab8074",
   "metadata": {
    "tags": []
   },
   "outputs": [],
   "source": [
    "lr.coef_"
   ]
  },
  {
   "cell_type": "markdown",
   "id": "ebaf06ba-ac09-4f4b-ac01-b905eb893a70",
   "metadata": {},
   "source": [
    "*Credit to Susan for add_constant to simplify creating an intercept process*"
   ]
  },
  {
   "cell_type": "code",
   "execution_count": null,
   "id": "2d1855b1-bb18-468f-af04-e70b111045d1",
   "metadata": {
    "tags": []
   },
   "outputs": [],
   "source": [
    "ols = sm.OLS(y_train, sm.add_constant(X1_train_transformed)).fit()\n",
    "summary_table = ols.summary()\n",
    "summary_table"
   ]
  },
  {
   "cell_type": "code",
   "execution_count": null,
   "id": "9c11476b-87d3-4f74-953b-649815f1da4c",
   "metadata": {
    "tags": []
   },
   "outputs": [],
   "source": [
    "ct.get_feature_names_out()"
   ]
  },
  {
   "cell_type": "code",
   "execution_count": null,
   "id": "b273f26a-729f-4efc-8d0a-58ed9ee4264c",
   "metadata": {
    "tags": []
   },
   "outputs": [],
   "source": []
  },
  {
   "cell_type": "code",
   "execution_count": null,
   "id": "8847b761-60fd-4e69-9e9d-9e0969fe9fc9",
   "metadata": {
    "tags": []
   },
   "outputs": [],
   "source": [
    "test = pd.read_csv('datasets/test.csv')"
   ]
  },
  {
   "cell_type": "code",
   "execution_count": null,
   "id": "e6892cdb-e6da-48b4-b823-07495bb128ff",
   "metadata": {
    "tags": []
   },
   "outputs": [],
   "source": [
    "test.info()"
   ]
  },
  {
   "cell_type": "code",
   "execution_count": null,
   "id": "2a84566c-3d23-45f3-8f5a-195659191536",
   "metadata": {
    "tags": []
   },
   "outputs": [],
   "source": [
    "#For the columns I am using, the solution for missing values was to fill na with \n",
    "test.fillna('NA', inplace=True)"
   ]
  },
  {
   "cell_type": "code",
   "execution_count": null,
   "id": "8b6bef0e-c030-4ca4-9df7-759311de214d",
   "metadata": {
    "tags": []
   },
   "outputs": [],
   "source": [
    "test_columns = ['Overall Qual', \n",
    "                'Gr Liv Area', \n",
    "                'Garage Area', \n",
    "                'Garage Cars', \n",
    "                'Full Bath', \n",
    "                'Fireplaces', \n",
    "                'MS SubClass', \n",
    "                'Neighborhood', \n",
    "                'Condition 1', \n",
    "                'Exter Qual', \n",
    "                'Bsmt Exposure', \n",
    "                'Kitchen Qual', \n",
    "                'Garage Qual',\n",
    "                'Exterior 1st',\n",
    "                'Exter Cond',\n",
    "                'Bsmt Qual',\n",
    "                'Bsmt Cond',\n",
    "                'BsmtFin Type 1',\n",
    "                'Functional',\n",
    "                'Fireplace Qu',\n",
    "                'Paved Drive',\n",
    "                'Sale Type',\n",
    "                'Garage Cond']\n",
    "X_test = test[test_columns]"
   ]
  },
  {
   "cell_type": "code",
   "execution_count": null,
   "id": "f1008e13-def3-4fdc-b20f-aac67ada348f",
   "metadata": {
    "tags": []
   },
   "outputs": [],
   "source": [
    "X_test.info()"
   ]
  },
  {
   "cell_type": "code",
   "execution_count": null,
   "id": "9a52d678-aeef-471f-b9e7-5b5a1f9119b4",
   "metadata": {
    "tags": []
   },
   "outputs": [],
   "source": []
  },
  {
   "cell_type": "code",
   "execution_count": null,
   "id": "876a979f-c2ac-4bd0-a748-6c82d08b0fcc",
   "metadata": {
    "tags": []
   },
   "outputs": [],
   "source": [
    "#For Garage Qual & Bsmt Exposure, I can input NA for missing values as I did for training data"
   ]
  },
  {
   "cell_type": "code",
   "execution_count": null,
   "id": "03daac85-eac9-496c-b214-f762df82b7cd",
   "metadata": {
    "tags": []
   },
   "outputs": [],
   "source": [
    "X_test_transformed = ct.transform(X_test)"
   ]
  },
  {
   "cell_type": "code",
   "execution_count": null,
   "id": "3fe13c4e-cec0-4c76-8607-c7afb1b66b82",
   "metadata": {
    "tags": []
   },
   "outputs": [],
   "source": []
  },
  {
   "cell_type": "code",
   "execution_count": null,
   "id": "2fc21cb6-95b1-45f7-8ed8-05aae547b90c",
   "metadata": {
    "tags": []
   },
   "outputs": [],
   "source": [
    "saleprice = lr.predict(X_test_transformed)"
   ]
  },
  {
   "cell_type": "code",
   "execution_count": null,
   "id": "d818aa33-3488-40a7-b831-bd867c31f693",
   "metadata": {
    "tags": []
   },
   "outputs": [],
   "source": [
    "saleprice.shape"
   ]
  },
  {
   "cell_type": "code",
   "execution_count": null,
   "id": "4b5fa1f1-d1bc-4423-a0a3-b9829bc9837c",
   "metadata": {
    "tags": []
   },
   "outputs": [],
   "source": [
    "data = {'Id':test['Id'], 'SalePrice': saleprice}\n",
    "test_sub = pd.DataFrame(data)"
   ]
  },
  {
   "cell_type": "code",
   "execution_count": null,
   "id": "fa951ed0-e4fb-4037-9545-8b9e46ed7644",
   "metadata": {
    "tags": []
   },
   "outputs": [],
   "source": [
    "test_sub.shape"
   ]
  },
  {
   "cell_type": "code",
   "execution_count": null,
   "id": "9c5ca735-2a77-4d27-8fe1-acda770fee4e",
   "metadata": {
    "tags": []
   },
   "outputs": [],
   "source": [
    "test_sub.to_csv('datasets/submission4.csv', index=False)"
   ]
  },
  {
   "cell_type": "code",
   "execution_count": null,
   "id": "11ab8329-6e4c-40dd-b827-5383033121ec",
   "metadata": {},
   "outputs": [],
   "source": []
  }
 ],
 "metadata": {
  "kernelspec": {
   "display_name": "Python 3 (ipykernel)",
   "language": "python",
   "name": "python3"
  },
  "language_info": {
   "codemirror_mode": {
    "name": "ipython",
    "version": 3
   },
   "file_extension": ".py",
   "mimetype": "text/x-python",
   "name": "python",
   "nbconvert_exporter": "python",
   "pygments_lexer": "ipython3",
   "version": "3.11.4"
  }
 },
 "nbformat": 4,
 "nbformat_minor": 5
}
