{
 "cells": [
  {
   "cell_type": "markdown",
   "id": "b1a185e6-22f0-4ae9-8a0d-126d683d17dd",
   "metadata": {
    "tags": []
   },
   "source": [
    "# Play around with different models\n",
    "\n",
    "I have 4 initial clean dataframes for 'big' models that till have many columns:\n",
    "1. df1 = missing values dropped, and category 1 columns dropped\n",
    "2. df2 = missing values dropped, and category 1 & 2 columns dropped\n",
    "3. df3 = missing values dropped, and cat1 dropped\n",
    "4. df4 = missing values dropped, and cat 1 & 2 dropped"
   ]
  },
  {
   "cell_type": "markdown",
   "id": "35c426f7-c582-4134-934e-edcc4a5217d6",
   "metadata": {},
   "source": [
    "Imports, read in data, start with overfit models and then simplify. Afterwards, start with simpler model and work my way up. Look back at heatmaps to eliminate more columns/ examine coefficients and p-values within df to eliminate more columns.\n",
    "\n",
    "Basic Steps for each model:\n",
    "1. Define X and y (Remove ID variables) \n",
    "2. Train-test split\n",
    "3. Pre-processing\n",
    "    - One hot encoding\n",
    "    - Simple Imputer (for df3 & df4)\n",
    "    - Interaction Variables/ Polynomial Features (try with and without)\n",
    "    - Manually create some interaction variables\n",
    "4. Instantiate Linear Regression Model\n",
    "5. Analyze scores & submit to Kaggle"
   ]
  },
  {
   "cell_type": "code",
   "execution_count": null,
   "id": "c37cf9d5-ae1d-42ec-adcc-0c9c646618de",
   "metadata": {},
   "outputs": [],
   "source": [
    "# Model 1 with df1 (simplest clean dataset- missings dropped, some columns dropped)"
   ]
  }
 ],
 "metadata": {
  "kernelspec": {
   "display_name": "Python 3 (ipykernel)",
   "language": "python",
   "name": "python3"
  },
  "language_info": {
   "codemirror_mode": {
    "name": "ipython",
    "version": 3
   },
   "file_extension": ".py",
   "mimetype": "text/x-python",
   "name": "python",
   "nbconvert_exporter": "python",
   "pygments_lexer": "ipython3",
   "version": "3.11.4"
  }
 },
 "nbformat": 4,
 "nbformat_minor": 5
}
