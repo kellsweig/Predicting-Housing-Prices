{
 "cells": [
  {
   "cell_type": "markdown",
   "id": "22c3ba70-96f6-48af-bdf4-91720f7bda87",
   "metadata": {},
   "source": [
    "# Data Import & Data Cleaning"
   ]
  },
  {
   "cell_type": "markdown",
   "id": "274c69be-6b3b-4352-b393-a62a57f48f06",
   "metadata": {},
   "source": [
    "**Imports**"
   ]
  },
  {
   "cell_type": "code",
   "execution_count": 2,
   "id": "03e79da9-6fea-4d46-9b42-56cc78bebd33",
   "metadata": {
    "tags": []
   },
   "outputs": [],
   "source": [
    "import numpy as np\n",
    "import pandas as pd\n",
    "import matplotlib.pyplot as plt\n",
    "\n",
    "#Will need seaborn for visualizations and will need SciKit learn for modeling & metrics"
   ]
  },
  {
   "cell_type": "markdown",
   "id": "4fdb69fa-659b-4906-90cd-c40d7ffd44e2",
   "metadata": {
    "tags": []
   },
   "source": [
    "**Read-in the training data**"
   ]
  },
  {
   "cell_type": "code",
   "execution_count": 3,
   "id": "295b1674-a402-4da6-b4e6-49f2b8f53548",
   "metadata": {
    "tags": []
   },
   "outputs": [],
   "source": [
    "train = pd.read_csv('./datasets/train.csv')"
   ]
  },
  {
   "cell_type": "code",
   "execution_count": 4,
   "id": "32b97045-8891-4fac-877d-2bae28f6cc03",
   "metadata": {
    "tags": []
   },
   "outputs": [
    {
     "name": "stdout",
     "output_type": "stream",
     "text": [
      "<class 'pandas.core.frame.DataFrame'>\n",
      "RangeIndex: 2051 entries, 0 to 2050\n",
      "Data columns (total 81 columns):\n",
      " #   Column           Non-Null Count  Dtype  \n",
      "---  ------           --------------  -----  \n",
      " 0   Id               2051 non-null   int64  \n",
      " 1   PID              2051 non-null   int64  \n",
      " 2   MS SubClass      2051 non-null   int64  \n",
      " 3   MS Zoning        2051 non-null   object \n",
      " 4   Lot Frontage     1721 non-null   float64\n",
      " 5   Lot Area         2051 non-null   int64  \n",
      " 6   Street           2051 non-null   object \n",
      " 7   Alley            140 non-null    object \n",
      " 8   Lot Shape        2051 non-null   object \n",
      " 9   Land Contour     2051 non-null   object \n",
      " 10  Utilities        2051 non-null   object \n",
      " 11  Lot Config       2051 non-null   object \n",
      " 12  Land Slope       2051 non-null   object \n",
      " 13  Neighborhood     2051 non-null   object \n",
      " 14  Condition 1      2051 non-null   object \n",
      " 15  Condition 2      2051 non-null   object \n",
      " 16  Bldg Type        2051 non-null   object \n",
      " 17  House Style      2051 non-null   object \n",
      " 18  Overall Qual     2051 non-null   int64  \n",
      " 19  Overall Cond     2051 non-null   int64  \n",
      " 20  Year Built       2051 non-null   int64  \n",
      " 21  Year Remod/Add   2051 non-null   int64  \n",
      " 22  Roof Style       2051 non-null   object \n",
      " 23  Roof Matl        2051 non-null   object \n",
      " 24  Exterior 1st     2051 non-null   object \n",
      " 25  Exterior 2nd     2051 non-null   object \n",
      " 26  Mas Vnr Type     2029 non-null   object \n",
      " 27  Mas Vnr Area     2029 non-null   float64\n",
      " 28  Exter Qual       2051 non-null   object \n",
      " 29  Exter Cond       2051 non-null   object \n",
      " 30  Foundation       2051 non-null   object \n",
      " 31  Bsmt Qual        1996 non-null   object \n",
      " 32  Bsmt Cond        1996 non-null   object \n",
      " 33  Bsmt Exposure    1993 non-null   object \n",
      " 34  BsmtFin Type 1   1996 non-null   object \n",
      " 35  BsmtFin SF 1     2050 non-null   float64\n",
      " 36  BsmtFin Type 2   1995 non-null   object \n",
      " 37  BsmtFin SF 2     2050 non-null   float64\n",
      " 38  Bsmt Unf SF      2050 non-null   float64\n",
      " 39  Total Bsmt SF    2050 non-null   float64\n",
      " 40  Heating          2051 non-null   object \n",
      " 41  Heating QC       2051 non-null   object \n",
      " 42  Central Air      2051 non-null   object \n",
      " 43  Electrical       2051 non-null   object \n",
      " 44  1st Flr SF       2051 non-null   int64  \n",
      " 45  2nd Flr SF       2051 non-null   int64  \n",
      " 46  Low Qual Fin SF  2051 non-null   int64  \n",
      " 47  Gr Liv Area      2051 non-null   int64  \n",
      " 48  Bsmt Full Bath   2049 non-null   float64\n",
      " 49  Bsmt Half Bath   2049 non-null   float64\n",
      " 50  Full Bath        2051 non-null   int64  \n",
      " 51  Half Bath        2051 non-null   int64  \n",
      " 52  Bedroom AbvGr    2051 non-null   int64  \n",
      " 53  Kitchen AbvGr    2051 non-null   int64  \n",
      " 54  Kitchen Qual     2051 non-null   object \n",
      " 55  TotRms AbvGrd    2051 non-null   int64  \n",
      " 56  Functional       2051 non-null   object \n",
      " 57  Fireplaces       2051 non-null   int64  \n",
      " 58  Fireplace Qu     1051 non-null   object \n",
      " 59  Garage Type      1938 non-null   object \n",
      " 60  Garage Yr Blt    1937 non-null   float64\n",
      " 61  Garage Finish    1937 non-null   object \n",
      " 62  Garage Cars      2050 non-null   float64\n",
      " 63  Garage Area      2050 non-null   float64\n",
      " 64  Garage Qual      1937 non-null   object \n",
      " 65  Garage Cond      1937 non-null   object \n",
      " 66  Paved Drive      2051 non-null   object \n",
      " 67  Wood Deck SF     2051 non-null   int64  \n",
      " 68  Open Porch SF    2051 non-null   int64  \n",
      " 69  Enclosed Porch   2051 non-null   int64  \n",
      " 70  3Ssn Porch       2051 non-null   int64  \n",
      " 71  Screen Porch     2051 non-null   int64  \n",
      " 72  Pool Area        2051 non-null   int64  \n",
      " 73  Pool QC          9 non-null      object \n",
      " 74  Fence            400 non-null    object \n",
      " 75  Misc Feature     65 non-null     object \n",
      " 76  Misc Val         2051 non-null   int64  \n",
      " 77  Mo Sold          2051 non-null   int64  \n",
      " 78  Yr Sold          2051 non-null   int64  \n",
      " 79  Sale Type        2051 non-null   object \n",
      " 80  SalePrice        2051 non-null   int64  \n",
      "dtypes: float64(11), int64(28), object(42)\n",
      "memory usage: 1.3+ MB\n"
     ]
    }
   ],
   "source": [
    "train.info()"
   ]
  },
  {
   "cell_type": "markdown",
   "id": "7c69ec7d-1533-45c4-bea6-bfccb4f00160",
   "metadata": {},
   "source": [
    "### Initial observations:\n",
    "- Total of 2,051 observations. \n",
    "- There are 80 total variables. \n",
    "- Most variables don't have null values\n",
    "- Pool QC, Misc Feature, Fence, and Alley have significantly fewer variables\n",
    "- Dataset contains both ID and PID, ID is the variable we need in the final dataset for identification"
   ]
  },
  {
   "cell_type": "markdown",
   "id": "297e2573-1a2e-48d3-8064-1359996dd4cc",
   "metadata": {
    "tags": []
   },
   "source": [
    "### Data Cleaning Goals:\n",
    "1. Evaluate Variable Types: does the type make sense for each variable?\n",
    "2. Examine variable value counts for categorical and ordinal variables\n",
    "3. Drop Variables if they do not have values for enough observations\n",
    "4. Examine variable 5 number summary for outlier values or typos for int & float variables"
   ]
  },
  {
   "cell_type": "code",
   "execution_count": 5,
   "id": "a7e84696-62ed-4357-9868-b27015587d8c",
   "metadata": {
    "tags": []
   },
   "outputs": [
    {
     "data": {
      "text/plain": [
       "20     770\n",
       "60     394\n",
       "50     198\n",
       "120    132\n",
       "30     101\n",
       "70      90\n",
       "160     88\n",
       "80      86\n",
       "90      75\n",
       "190     46\n",
       "85      28\n",
       "75      16\n",
       "180     11\n",
       "45      11\n",
       "40       4\n",
       "150      1\n",
       "Name: MS SubClass, dtype: int64"
      ]
     },
     "execution_count": 5,
     "metadata": {},
     "output_type": "execute_result"
    }
   ],
   "source": [
    "train['MS SubClass'].value_counts()\n",
    "# This variable matches the documentation for the dataset\n",
    "#This variable should be an object/ string this is a categorical variable"
   ]
  },
  {
   "cell_type": "code",
   "execution_count": 6,
   "id": "b1df088f-693f-4b15-85d8-f4106f015930",
   "metadata": {
    "tags": []
   },
   "outputs": [
    {
     "data": {
      "text/plain": [
       "RL         1598\n",
       "RM          316\n",
       "FV          101\n",
       "C (all)      19\n",
       "RH           14\n",
       "A (agr)       2\n",
       "I (all)       1\n",
       "Name: MS Zoning, dtype: int64"
      ]
     },
     "execution_count": 6,
     "metadata": {},
     "output_type": "execute_result"
    }
   ],
   "source": [
    "train['MS Zoning'].value_counts()\n",
    "# The variable counts do not match the documentation for this dataset\n",
    "# I (all) is not an expected value\n",
    "# As expected, there are no RP or residential park"
   ]
  },
  {
   "cell_type": "code",
   "execution_count": 7,
   "id": "d2f4b4b1-de86-49a2-b12a-5b1fc65fc771",
   "metadata": {
    "tags": []
   },
   "outputs": [
    {
     "data": {
      "text/html": [
       "<div>\n",
       "<style scoped>\n",
       "    .dataframe tbody tr th:only-of-type {\n",
       "        vertical-align: middle;\n",
       "    }\n",
       "\n",
       "    .dataframe tbody tr th {\n",
       "        vertical-align: top;\n",
       "    }\n",
       "\n",
       "    .dataframe thead th {\n",
       "        text-align: right;\n",
       "    }\n",
       "</style>\n",
       "<table border=\"1\" class=\"dataframe\">\n",
       "  <thead>\n",
       "    <tr style=\"text-align: right;\">\n",
       "      <th></th>\n",
       "      <th>Id</th>\n",
       "      <th>PID</th>\n",
       "      <th>MS SubClass</th>\n",
       "      <th>MS Zoning</th>\n",
       "      <th>Lot Frontage</th>\n",
       "      <th>Lot Area</th>\n",
       "      <th>Street</th>\n",
       "      <th>Alley</th>\n",
       "      <th>Lot Shape</th>\n",
       "      <th>Land Contour</th>\n",
       "      <th>...</th>\n",
       "      <th>Screen Porch</th>\n",
       "      <th>Pool Area</th>\n",
       "      <th>Pool QC</th>\n",
       "      <th>Fence</th>\n",
       "      <th>Misc Feature</th>\n",
       "      <th>Misc Val</th>\n",
       "      <th>Mo Sold</th>\n",
       "      <th>Yr Sold</th>\n",
       "      <th>Sale Type</th>\n",
       "      <th>SalePrice</th>\n",
       "    </tr>\n",
       "  </thead>\n",
       "  <tbody>\n",
       "    <tr>\n",
       "      <th>581</th>\n",
       "      <td>946</td>\n",
       "      <td>912251110</td>\n",
       "      <td>30</td>\n",
       "      <td>I (all)</td>\n",
       "      <td>109.0</td>\n",
       "      <td>21780</td>\n",
       "      <td>Grvl</td>\n",
       "      <td>NaN</td>\n",
       "      <td>Reg</td>\n",
       "      <td>Lvl</td>\n",
       "      <td>...</td>\n",
       "      <td>0</td>\n",
       "      <td>0</td>\n",
       "      <td>NaN</td>\n",
       "      <td>NaN</td>\n",
       "      <td>NaN</td>\n",
       "      <td>0</td>\n",
       "      <td>3</td>\n",
       "      <td>2009</td>\n",
       "      <td>ConLD</td>\n",
       "      <td>57625</td>\n",
       "    </tr>\n",
       "  </tbody>\n",
       "</table>\n",
       "<p>1 rows × 81 columns</p>\n",
       "</div>"
      ],
      "text/plain": [
       "      Id        PID  MS SubClass MS Zoning  Lot Frontage  Lot Area Street  \\\n",
       "581  946  912251110           30   I (all)         109.0     21780   Grvl   \n",
       "\n",
       "    Alley Lot Shape Land Contour  ... Screen Porch Pool Area Pool QC Fence  \\\n",
       "581   NaN       Reg          Lvl  ...            0         0     NaN   NaN   \n",
       "\n",
       "    Misc Feature Misc Val Mo Sold Yr Sold  Sale Type  SalePrice  \n",
       "581          NaN        0       3    2009      ConLD      57625  \n",
       "\n",
       "[1 rows x 81 columns]"
      ]
     },
     "execution_count": 7,
     "metadata": {},
     "output_type": "execute_result"
    }
   ],
   "source": [
    "train[train['MS Zoning']== \"I (all)\"]\n",
    "#Don't see anything else about this observation that could indicate what I stands for..."
   ]
  },
  {
   "cell_type": "code",
   "execution_count": 8,
   "id": "ac54b210-b079-4e09-9a35-6e652610150c",
   "metadata": {},
   "outputs": [
    {
     "data": {
      "text/plain": [
       "RL         1598\n",
       "RM          316\n",
       "FV          101\n",
       "C (all)      19\n",
       "RH           14\n",
       "A (agr)       2\n",
       "I (all)       1\n",
       "Name: MS Zoning, dtype: int64"
      ]
     },
     "execution_count": 8,
     "metadata": {},
     "output_type": "execute_result"
    }
   ],
   "source": [
    "train['MS Zoning'].value_counts()"
   ]
  },
  {
   "cell_type": "code",
   "execution_count": 9,
   "id": "035d76eb-d0bf-4c20-8152-b8922abca0b5",
   "metadata": {
    "tags": []
   },
   "outputs": [
    {
     "data": {
      "text/plain": [
       "count    1721.000000\n",
       "mean       69.055200\n",
       "std        23.260653\n",
       "min        21.000000\n",
       "25%        58.000000\n",
       "50%        68.000000\n",
       "75%        80.000000\n",
       "max       313.000000\n",
       "Name: Lot Frontage, dtype: float64"
      ]
     },
     "execution_count": 9,
     "metadata": {},
     "output_type": "execute_result"
    }
   ],
   "source": [
    "train['Lot Frontage'].describe()\n",
    "#missing values but variable checks out"
   ]
  },
  {
   "cell_type": "code",
   "execution_count": 10,
   "id": "2532b983-b912-4552-9c31-f65e27f9b9ba",
   "metadata": {
    "tags": []
   },
   "outputs": [
    {
     "data": {
      "text/plain": [
       "count      2051.000000\n",
       "mean      10065.208191\n",
       "std        6742.488909\n",
       "min        1300.000000\n",
       "25%        7500.000000\n",
       "50%        9430.000000\n",
       "75%       11513.500000\n",
       "max      159000.000000\n",
       "Name: Lot Area, dtype: float64"
      ]
     },
     "execution_count": 10,
     "metadata": {},
     "output_type": "execute_result"
    }
   ],
   "source": [
    "train['Lot Area'].describe()\n",
    "#No missing values, large range"
   ]
  },
  {
   "cell_type": "code",
   "execution_count": 11,
   "id": "d7308bed-1b10-4826-a32d-478b31844fc4",
   "metadata": {
    "tags": []
   },
   "outputs": [
    {
     "data": {
      "text/plain": [
       "Pave    2044\n",
       "Grvl       7\n",
       "Name: Street, dtype: int64"
      ]
     },
     "execution_count": 11,
     "metadata": {},
     "output_type": "execute_result"
    }
   ],
   "source": [
    "train['Street'].value_counts()\n",
    "#Only 7 values are gravel... will this be a significant variable for analysis?"
   ]
  },
  {
   "cell_type": "code",
   "execution_count": 12,
   "id": "fe5a0cbc-f1e6-4fba-8886-e6c43312628e",
   "metadata": {
    "tags": []
   },
   "outputs": [
    {
     "data": {
      "text/plain": [
       "Grvl    85\n",
       "Pave    55\n",
       "Name: Alley, dtype: int64"
      ]
     },
     "execution_count": 12,
     "metadata": {},
     "output_type": "execute_result"
    }
   ],
   "source": [
    "train['Alley'].value_counts()\n",
    "#Mostly missing, only applicable for houses with alleys"
   ]
  },
  {
   "cell_type": "code",
   "execution_count": null,
   "id": "d39fe5d2-5ff1-47cd-9cb6-43c978ab5e46",
   "metadata": {},
   "outputs": [],
   "source": []
  },
  {
   "cell_type": "code",
   "execution_count": 13,
   "id": "0de2ae3a-c938-4356-8945-46b4cc930da1",
   "metadata": {
    "tags": []
   },
   "outputs": [
    {
     "data": {
      "text/plain": [
       "Reg    1295\n",
       "IR1     692\n",
       "IR2      55\n",
       "IR3       9\n",
       "Name: Lot Shape, dtype: int64"
      ]
     },
     "execution_count": 13,
     "metadata": {},
     "output_type": "execute_result"
    }
   ],
   "source": [
    "train['Lot Shape'].value_counts()\n",
    "#What does lot shape mean? \n",
    "#This variable and value counts match the documentation"
   ]
  },
  {
   "cell_type": "code",
   "execution_count": 14,
   "id": "dc7f22fa-ba37-49f7-9626-5bddaf72500b",
   "metadata": {
    "tags": []
   },
   "outputs": [
    {
     "data": {
      "text/plain": [
       "Lvl    1843\n",
       "HLS      85\n",
       "Bnk      80\n",
       "Low      43\n",
       "Name: Land Contour, dtype: int64"
      ]
     },
     "execution_count": 14,
     "metadata": {},
     "output_type": "execute_result"
    }
   ],
   "source": [
    "train['Land Contour'].value_counts()\n",
    "#no missing values\n",
    "#values correspond to documentation"
   ]
  },
  {
   "cell_type": "code",
   "execution_count": 15,
   "id": "528d50e1-05ab-42b8-957a-7e70b3e547a3",
   "metadata": {
    "tags": []
   },
   "outputs": [
    {
     "data": {
      "text/plain": [
       "AllPub    2049\n",
       "NoSeWa       1\n",
       "NoSewr       1\n",
       "Name: Utilities, dtype: int64"
      ]
     },
     "execution_count": 15,
     "metadata": {},
     "output_type": "execute_result"
    }
   ],
   "source": [
    "train['Utilities'].value_counts()\n",
    "#No missing values\n",
    "#Only 2 observations that are not allpub"
   ]
  },
  {
   "cell_type": "code",
   "execution_count": 16,
   "id": "579165e7-eda5-4f04-87b9-9e21e9aa72e2",
   "metadata": {
    "tags": []
   },
   "outputs": [
    {
     "data": {
      "text/plain": [
       "Inside     1503\n",
       "Corner      348\n",
       "CulDSac     131\n",
       "FR2          60\n",
       "FR3           9\n",
       "Name: Lot Config, dtype: int64"
      ]
     },
     "execution_count": 16,
     "metadata": {},
     "output_type": "execute_result"
    }
   ],
   "source": [
    "train['Lot Config'].value_counts()\n",
    "#No missing values\n",
    "#Values match documentation"
   ]
  },
  {
   "cell_type": "code",
   "execution_count": 17,
   "id": "7d4afc5c-f2d0-4b8d-a6a9-1b762262146a",
   "metadata": {
    "tags": []
   },
   "outputs": [
    {
     "data": {
      "text/plain": [
       "Gtl    1953\n",
       "Mod      88\n",
       "Sev      10\n",
       "Name: Land Slope, dtype: int64"
      ]
     },
     "execution_count": 17,
     "metadata": {},
     "output_type": "execute_result"
    }
   ],
   "source": [
    "train['Land Slope'].value_counts()\n",
    "#No missing values & matches documentation\n",
    "#Only a little variation in values"
   ]
  },
  {
   "cell_type": "code",
   "execution_count": 18,
   "id": "2365b1c8-587b-4358-9566-1995112ad663",
   "metadata": {
    "tags": []
   },
   "outputs": [
    {
     "data": {
      "text/plain": [
       "NAmes      310\n",
       "CollgCr    180\n",
       "OldTown    163\n",
       "Edwards    143\n",
       "Somerst    130\n",
       "NridgHt    122\n",
       "Gilbert    116\n",
       "Sawyer     111\n",
       "NWAmes      87\n",
       "SawyerW     87\n",
       "Mitchel     82\n",
       "BrkSide     76\n",
       "Crawfor     71\n",
       "IDOTRR      69\n",
       "NoRidge     48\n",
       "Timber      48\n",
       "StoneBr     38\n",
       "SWISU       32\n",
       "ClearCr     27\n",
       "MeadowV     24\n",
       "Blmngtn     22\n",
       "BrDale      19\n",
       "Veenker     17\n",
       "NPkVill     17\n",
       "Blueste      6\n",
       "Greens       3\n",
       "GrnHill      2\n",
       "Landmrk      1\n",
       "Name: Neighborhood, dtype: int64"
      ]
     },
     "execution_count": 18,
     "metadata": {},
     "output_type": "execute_result"
    }
   ],
   "source": [
    "train['Neighborhood'].value_counts()"
   ]
  },
  {
   "cell_type": "code",
   "execution_count": 19,
   "id": "59aadf25-570e-472f-8f3a-3b48fcd70659",
   "metadata": {
    "tags": []
   },
   "outputs": [
    {
     "data": {
      "text/plain": [
       "Norm      1767\n",
       "Feedr      109\n",
       "Artery      70\n",
       "RRAn        36\n",
       "PosN        27\n",
       "RRAe        21\n",
       "PosA        12\n",
       "RRNn         6\n",
       "RRNe         3\n",
       "Name: Condition 1, dtype: int64"
      ]
     },
     "execution_count": 19,
     "metadata": {},
     "output_type": "execute_result"
    }
   ],
   "source": [
    "train['Condition 1'].value_counts()"
   ]
  },
  {
   "cell_type": "code",
   "execution_count": 20,
   "id": "17f63bc2-1698-44da-9bb5-dcd1ff8153b0",
   "metadata": {
    "tags": []
   },
   "outputs": [
    {
     "data": {
      "text/plain": [
       "Norm      2025\n",
       "Feedr       11\n",
       "Artery       5\n",
       "PosA         3\n",
       "PosN         3\n",
       "RRNn         2\n",
       "RRAe         1\n",
       "RRAn         1\n",
       "Name: Condition 2, dtype: int64"
      ]
     },
     "execution_count": 20,
     "metadata": {},
     "output_type": "execute_result"
    }
   ],
   "source": [
    "train['Condition 2'].value_counts()\n",
    "#So few values non-Norm\n",
    "#No missing values"
   ]
  },
  {
   "cell_type": "code",
   "execution_count": 21,
   "id": "11da9dde-d536-4cec-9f5d-fec701a71ca0",
   "metadata": {
    "tags": []
   },
   "outputs": [
    {
     "data": {
      "text/plain": [
       "1Fam      1700\n",
       "TwnhsE     161\n",
       "Duplex      75\n",
       "Twnhs       69\n",
       "2fmCon      46\n",
       "Name: Bldg Type, dtype: int64"
      ]
     },
     "execution_count": 21,
     "metadata": {},
     "output_type": "execute_result"
    }
   ],
   "source": [
    "train['Bldg Type'].value_counts()\n",
    "#No missing values and values track with documentation"
   ]
  },
  {
   "cell_type": "code",
   "execution_count": 22,
   "id": "c33f588f-98d1-4a02-a002-5ad80fe89085",
   "metadata": {
    "tags": []
   },
   "outputs": [
    {
     "data": {
      "text/plain": [
       "1Story    1059\n",
       "2Story     598\n",
       "1.5Fin     218\n",
       "SLvl        94\n",
       "SFoyer      50\n",
       "2.5Unf      14\n",
       "1.5Unf      12\n",
       "2.5Fin       6\n",
       "Name: House Style, dtype: int64"
      ]
     },
     "execution_count": 22,
     "metadata": {},
     "output_type": "execute_result"
    }
   ],
   "source": [
    "train['House Style'].value_counts()"
   ]
  },
  {
   "cell_type": "code",
   "execution_count": 23,
   "id": "c072d7ee-cead-46af-8d7d-4b84205d3c49",
   "metadata": {
    "tags": []
   },
   "outputs": [
    {
     "data": {
      "text/plain": [
       "count    2051.000000\n",
       "mean        6.112140\n",
       "std         1.426271\n",
       "min         1.000000\n",
       "25%         5.000000\n",
       "50%         6.000000\n",
       "75%         7.000000\n",
       "max        10.000000\n",
       "Name: Overall Qual, dtype: float64"
      ]
     },
     "execution_count": 23,
     "metadata": {},
     "output_type": "execute_result"
    }
   ],
   "source": [
    "train['Overall Qual'].describe()\n",
    "#data ranges are as expected\n",
    "#this variable should be an object not float unless i want to treat my ordinal variables that way"
   ]
  },
  {
   "cell_type": "code",
   "execution_count": 24,
   "id": "2a45b71f-2956-4c0f-9f75-374aaf6a580c",
   "metadata": {
    "tags": []
   },
   "outputs": [
    {
     "data": {
      "text/plain": [
       "count    2051.000000\n",
       "mean        5.562165\n",
       "std         1.104497\n",
       "min         1.000000\n",
       "25%         5.000000\n",
       "50%         5.000000\n",
       "75%         6.000000\n",
       "max         9.000000\n",
       "Name: Overall Cond, dtype: float64"
      ]
     },
     "execution_count": 24,
     "metadata": {},
     "output_type": "execute_result"
    }
   ],
   "source": [
    "train['Overall Cond'].describe()\n",
    "#What type of variable do i need this to be?"
   ]
  },
  {
   "cell_type": "code",
   "execution_count": 25,
   "id": "657db229-3bf4-40b7-896a-dbd3b9e3bab7",
   "metadata": {
    "tags": []
   },
   "outputs": [
    {
     "data": {
      "text/plain": [
       "count    2051.000000\n",
       "mean     1971.708922\n",
       "std        30.177889\n",
       "min      1872.000000\n",
       "25%      1953.500000\n",
       "50%      1974.000000\n",
       "75%      2001.000000\n",
       "max      2010.000000\n",
       "Name: Year Built, dtype: float64"
      ]
     },
     "execution_count": 25,
     "metadata": {},
     "output_type": "execute_result"
    }
   ],
   "source": [
    "train['Year Built'].describe()\n",
    "#looks fine- no weird outliers\n",
    "#Should year be treated as a categorical/ ordinal variable or as a float/ int?"
   ]
  },
  {
   "cell_type": "code",
   "execution_count": 26,
   "id": "fdf46ed7-7467-4841-bb69-dbdb10295bb5",
   "metadata": {
    "tags": []
   },
   "outputs": [
    {
     "data": {
      "text/plain": [
       "1950    262\n",
       "2006    139\n",
       "2007    123\n",
       "2005    100\n",
       "2004     83\n",
       "       ... \n",
       "1986      9\n",
       "2010      8\n",
       "1983      7\n",
       "1981      6\n",
       "1982      3\n",
       "Name: Year Remod/Add, Length: 61, dtype: int64"
      ]
     },
     "execution_count": 26,
     "metadata": {},
     "output_type": "execute_result"
    }
   ],
   "source": [
    "train['Year Remod/Add'].value_counts()\n",
    "#This variable equals year built if there was no remodel or addition\n",
    "#This variable looks fine"
   ]
  },
  {
   "cell_type": "code",
   "execution_count": 27,
   "id": "1ab72487-1917-492c-a6ad-f79db06962d8",
   "metadata": {
    "tags": []
   },
   "outputs": [
    {
     "data": {
      "text/plain": [
       "Gable      1619\n",
       "Hip         397\n",
       "Flat         13\n",
       "Gambrel      12\n",
       "Mansard       7\n",
       "Shed          3\n",
       "Name: Roof Style, dtype: int64"
      ]
     },
     "execution_count": 27,
     "metadata": {},
     "output_type": "execute_result"
    }
   ],
   "source": [
    "train['Roof Style'].value_counts()\n",
    "#No missing values, values match documentation"
   ]
  },
  {
   "cell_type": "code",
   "execution_count": 28,
   "id": "08f24bd6-daa6-4e4d-8057-4ceb69f8f088",
   "metadata": {
    "tags": []
   },
   "outputs": [
    {
     "data": {
      "text/plain": [
       "CompShg    2025\n",
       "Tar&Grv      15\n",
       "WdShngl       5\n",
       "WdShake       4\n",
       "Membran       1\n",
       "ClyTile       1\n",
       "Name: Roof Matl, dtype: int64"
      ]
     },
     "execution_count": 28,
     "metadata": {},
     "output_type": "execute_result"
    }
   ],
   "source": [
    "train['Roof Matl'].value_counts()\n",
    "#No missing values\n",
    "#Not a lot of variation in values"
   ]
  },
  {
   "cell_type": "code",
   "execution_count": 29,
   "id": "d2822287-eebd-4c2b-a28c-4443579f4290",
   "metadata": {
    "tags": []
   },
   "outputs": [
    {
     "data": {
      "text/plain": [
       "VinylSd    724\n",
       "MetalSd    331\n",
       "HdBoard    300\n",
       "Wd Sdng    276\n",
       "Plywood    152\n",
       "CemntBd     90\n",
       "BrkFace     64\n",
       "WdShing     45\n",
       "AsbShng     33\n",
       "Stucco      27\n",
       "BrkComm      3\n",
       "Stone        2\n",
       "CBlock       2\n",
       "ImStucc      1\n",
       "AsphShn      1\n",
       "Name: Exterior 1st, dtype: int64"
      ]
     },
     "execution_count": 29,
     "metadata": {},
     "output_type": "execute_result"
    }
   ],
   "source": [
    "train['Exterior 1st'].value_counts()\n",
    "# No missing values\n",
    "# Values match documentation"
   ]
  },
  {
   "cell_type": "code",
   "execution_count": 30,
   "id": "6a9fa64e-8d5b-4a15-839e-31188a14b12d",
   "metadata": {
    "tags": []
   },
   "outputs": [
    {
     "data": {
      "text/plain": [
       "VinylSd    721\n",
       "MetalSd    324\n",
       "HdBoard    275\n",
       "Wd Sdng    262\n",
       "Plywood    185\n",
       "CmentBd     90\n",
       "Wd Shng     63\n",
       "BrkFace     34\n",
       "Stucco      30\n",
       "AsbShng     28\n",
       "Brk Cmn     17\n",
       "ImStucc     11\n",
       "Stone        6\n",
       "AsphShn      3\n",
       "CBlock       2\n",
       "Name: Exterior 2nd, dtype: int64"
      ]
     },
     "execution_count": 30,
     "metadata": {},
     "output_type": "execute_result"
    }
   ],
   "source": [
    "train['Exterior 2nd'].value_counts()\n",
    "#Good variety\n",
    "#No missing variables"
   ]
  },
  {
   "cell_type": "code",
   "execution_count": 31,
   "id": "eff8b78c-eb4f-4a05-b3c8-aec949ef5678",
   "metadata": {
    "tags": []
   },
   "outputs": [
    {
     "data": {
      "text/plain": [
       "None       1218\n",
       "BrkFace     630\n",
       "Stone       168\n",
       "BrkCmn       13\n",
       "Name: Mas Vnr Type, dtype: int64"
      ]
     },
     "execution_count": 31,
     "metadata": {},
     "output_type": "execute_result"
    }
   ],
   "source": [
    "train['Mas Vnr Type'].value_counts()\n",
    "#Missing about 25 values"
   ]
  },
  {
   "cell_type": "code",
   "execution_count": 32,
   "id": "1a418622-3379-4216-9a99-9092798504df",
   "metadata": {
    "tags": []
   },
   "outputs": [
    {
     "data": {
      "text/plain": [
       "count    2029.000000\n",
       "mean       99.695909\n",
       "std       174.963129\n",
       "min         0.000000\n",
       "25%         0.000000\n",
       "50%         0.000000\n",
       "75%       161.000000\n",
       "max      1600.000000\n",
       "Name: Mas Vnr Area, dtype: float64"
      ]
     },
     "execution_count": 32,
     "metadata": {},
     "output_type": "execute_result"
    }
   ],
   "source": [
    "train['Mas Vnr Area'].describe()\n",
    "# Do the areas = 0 correspond with apartments with no outer walls/ none???\n",
    "# Missing values"
   ]
  },
  {
   "cell_type": "code",
   "execution_count": 33,
   "id": "8b9badf4-a1de-457b-a2bc-29775ae6aa81",
   "metadata": {
    "tags": []
   },
   "outputs": [
    {
     "data": {
      "text/plain": [
       "TA    1247\n",
       "Gd     697\n",
       "Ex      81\n",
       "Fa      26\n",
       "Name: Exter Qual, dtype: int64"
      ]
     },
     "execution_count": 33,
     "metadata": {},
     "output_type": "execute_result"
    }
   ],
   "source": [
    "train['Exter Qual'].value_counts()"
   ]
  },
  {
   "cell_type": "code",
   "execution_count": 34,
   "id": "a0bfa2e8-9ae9-4530-b402-c9a983151c93",
   "metadata": {
    "tags": []
   },
   "outputs": [
    {
     "data": {
      "text/plain": [
       "TA    1778\n",
       "Gd     215\n",
       "Fa      49\n",
       "Ex       7\n",
       "Po       2\n",
       "Name: Exter Cond, dtype: int64"
      ]
     },
     "execution_count": 34,
     "metadata": {},
     "output_type": "execute_result"
    }
   ],
   "source": [
    "train['Exter Cond'].value_counts()"
   ]
  },
  {
   "cell_type": "code",
   "execution_count": 35,
   "id": "ca6e0439-38fa-4c59-a18d-56861fa16c86",
   "metadata": {
    "tags": []
   },
   "outputs": [
    {
     "data": {
      "text/plain": [
       "PConc     926\n",
       "CBlock    863\n",
       "BrkTil    221\n",
       "Slab       34\n",
       "Stone       5\n",
       "Wood        2\n",
       "Name: Foundation, dtype: int64"
      ]
     },
     "execution_count": 35,
     "metadata": {},
     "output_type": "execute_result"
    }
   ],
   "source": [
    "train['Foundation'].value_counts()"
   ]
  },
  {
   "cell_type": "code",
   "execution_count": 36,
   "id": "f88e576a-02a6-48f5-b864-a47218e2e826",
   "metadata": {
    "tags": []
   },
   "outputs": [
    {
     "data": {
      "text/plain": [
       "TA    887\n",
       "Gd    864\n",
       "Ex    184\n",
       "Fa     60\n",
       "Po      1\n",
       "Name: Bsmt Qual, dtype: int64"
      ]
     },
     "execution_count": 36,
     "metadata": {},
     "output_type": "execute_result"
    }
   ],
   "source": [
    "train['Bsmt Qual'].value_counts()\n",
    "#Some Missing Values\n",
    "#Look at description- there should be NA- missing are probably the NAs"
   ]
  },
  {
   "cell_type": "code",
   "execution_count": 37,
   "id": "f97bdd92-13dd-4bda-b298-3fe21d9921e3",
   "metadata": {
    "tags": []
   },
   "outputs": [
    {
     "data": {
      "text/plain": [
       "TA    1834\n",
       "Gd      89\n",
       "Fa      65\n",
       "Po       5\n",
       "Ex       3\n",
       "Name: Bsmt Cond, dtype: int64"
      ]
     },
     "execution_count": 37,
     "metadata": {},
     "output_type": "execute_result"
    }
   ],
   "source": [
    "train['Bsmt Cond'].value_counts()\n",
    "#Same number of missing values as the basement qual variable- also has no NA"
   ]
  },
  {
   "cell_type": "code",
   "execution_count": 38,
   "id": "90df7463-061d-4d28-a1b1-6ef3b6569fec",
   "metadata": {
    "tags": []
   },
   "outputs": [
    {
     "data": {
      "text/plain": [
       "No    1339\n",
       "Av     288\n",
       "Gd     203\n",
       "Mn     163\n",
       "Name: Bsmt Exposure, dtype: int64"
      ]
     },
     "execution_count": 38,
     "metadata": {},
     "output_type": "execute_result"
    }
   ],
   "source": [
    "train['Bsmt Exposure'].value_counts()\n",
    "#3 more missing than other basement variables\n",
    "# alos supposed to have NA values"
   ]
  },
  {
   "cell_type": "code",
   "execution_count": 39,
   "id": "28c65b56-42f9-487d-b0df-4eac54397aa7",
   "metadata": {
    "tags": []
   },
   "outputs": [
    {
     "data": {
      "text/plain": [
       "GLQ    615\n",
       "Unf    603\n",
       "ALQ    293\n",
       "BLQ    200\n",
       "Rec    183\n",
       "LwQ    102\n",
       "Name: BsmtFin Type 1, dtype: int64"
      ]
     },
     "execution_count": 39,
     "metadata": {},
     "output_type": "execute_result"
    }
   ],
   "source": [
    "train['BsmtFin Type 1'].value_counts()\n",
    "#Missing values and supposed to have NA values"
   ]
  },
  {
   "cell_type": "code",
   "execution_count": 40,
   "id": "f70d2f83-db51-4e80-a0cb-7136d1990d06",
   "metadata": {
    "tags": []
   },
   "outputs": [
    {
     "data": {
      "text/plain": [
       "count    2050.000000\n",
       "mean      442.300488\n",
       "std       461.204124\n",
       "min         0.000000\n",
       "25%         0.000000\n",
       "50%       368.000000\n",
       "75%       733.750000\n",
       "max      5644.000000\n",
       "Name: BsmtFin SF 1, dtype: float64"
      ]
     },
     "execution_count": 40,
     "metadata": {},
     "output_type": "execute_result"
    }
   ],
   "source": [
    "train['BsmtFin SF 1'].describe()\n",
    "#Only missing 1 value, can use this variable to confirm the NA for other basement variable"
   ]
  },
  {
   "cell_type": "code",
   "execution_count": 41,
   "id": "e21e6735-9f9f-4b16-8bd7-4c41674bdd53",
   "metadata": {
    "tags": []
   },
   "outputs": [
    {
     "data": {
      "text/plain": [
       "Unf    1749\n",
       "Rec      80\n",
       "LwQ      60\n",
       "BLQ      48\n",
       "ALQ      35\n",
       "GLQ      23\n",
       "Name: BsmtFin Type 2, dtype: int64"
      ]
     },
     "execution_count": 41,
     "metadata": {},
     "output_type": "execute_result"
    }
   ],
   "source": [
    "train['BsmtFin Type 2'].value_counts()\n",
    "# Some missing values, missing the NA"
   ]
  },
  {
   "cell_type": "code",
   "execution_count": 42,
   "id": "6b419167-961c-477e-9fc4-100122b4ff3c",
   "metadata": {
    "tags": []
   },
   "outputs": [
    {
     "data": {
      "text/plain": [
       "count    2050.000000\n",
       "mean       47.959024\n",
       "std       165.000901\n",
       "min         0.000000\n",
       "25%         0.000000\n",
       "50%         0.000000\n",
       "75%         0.000000\n",
       "max      1474.000000\n",
       "Name: BsmtFin SF 2, dtype: float64"
      ]
     },
     "execution_count": 42,
     "metadata": {},
     "output_type": "execute_result"
    }
   ],
   "source": [
    "train['BsmtFin SF 2'].describe()\n",
    "#Values are reasonable, can use this variable to confirm NA basement for other variables\n",
    "# only 1 missing variable"
   ]
  },
  {
   "cell_type": "code",
   "execution_count": 43,
   "id": "3529b3eb-5093-4026-9114-56065f1337e9",
   "metadata": {
    "tags": []
   },
   "outputs": [
    {
     "data": {
      "text/plain": [
       "count    2050.000000\n",
       "mean      567.728293\n",
       "std       444.954786\n",
       "min         0.000000\n",
       "25%       220.000000\n",
       "50%       474.500000\n",
       "75%       811.000000\n",
       "max      2336.000000\n",
       "Name: Bsmt Unf SF, dtype: float64"
      ]
     },
     "execution_count": 43,
     "metadata": {},
     "output_type": "execute_result"
    }
   ],
   "source": [
    "train['Bsmt Unf SF'].describe()\n",
    "# only 1 missing variable"
   ]
  },
  {
   "cell_type": "code",
   "execution_count": 44,
   "id": "3525a209-0165-4e5f-9fa4-2388758fda66",
   "metadata": {
    "tags": []
   },
   "outputs": [
    {
     "data": {
      "text/plain": [
       "count    2050.000000\n",
       "mean     1057.987805\n",
       "std       449.410704\n",
       "min         0.000000\n",
       "25%       793.000000\n",
       "50%       994.500000\n",
       "75%      1318.750000\n",
       "max      6110.000000\n",
       "Name: Total Bsmt SF, dtype: float64"
      ]
     },
     "execution_count": 44,
     "metadata": {},
     "output_type": "execute_result"
    }
   ],
   "source": [
    "train['Total Bsmt SF'].describe()\n",
    "#Missing 1 value"
   ]
  },
  {
   "cell_type": "code",
   "execution_count": 45,
   "id": "ab167eac-dcbe-4b64-bdec-9bd13e26b7da",
   "metadata": {
    "tags": []
   },
   "outputs": [
    {
     "data": {
      "text/plain": [
       "GasA    2018\n",
       "GasW      20\n",
       "Wall       6\n",
       "Grav       5\n",
       "OthW       2\n",
       "Name: Heating, dtype: int64"
      ]
     },
     "execution_count": 45,
     "metadata": {},
     "output_type": "execute_result"
    }
   ],
   "source": [
    "train['Heating'].value_counts()\n",
    "#Most values as just GasA"
   ]
  },
  {
   "cell_type": "code",
   "execution_count": 46,
   "id": "2d9870a1-197f-4683-9a3e-8614bf257e1f",
   "metadata": {
    "tags": []
   },
   "outputs": [
    {
     "data": {
      "text/plain": [
       "Ex    1065\n",
       "TA     597\n",
       "Gd     319\n",
       "Fa      67\n",
       "Po       3\n",
       "Name: Heating QC, dtype: int64"
      ]
     },
     "execution_count": 46,
     "metadata": {},
     "output_type": "execute_result"
    }
   ],
   "source": [
    "train['Heating QC'].value_counts()\n",
    "#No missing values"
   ]
  },
  {
   "cell_type": "code",
   "execution_count": 47,
   "id": "ccbfd83b-0e95-48ba-b328-70c6c1ff1a4c",
   "metadata": {
    "tags": []
   },
   "outputs": [
    {
     "data": {
      "text/plain": [
       "Y    1910\n",
       "N     141\n",
       "Name: Central Air, dtype: int64"
      ]
     },
     "execution_count": 47,
     "metadata": {},
     "output_type": "execute_result"
    }
   ],
   "source": [
    "train['Central Air'].value_counts()\n",
    "#No missing values"
   ]
  },
  {
   "cell_type": "code",
   "execution_count": 48,
   "id": "476d32c8-06e0-49c2-bc14-dac73aba802c",
   "metadata": {
    "tags": []
   },
   "outputs": [
    {
     "data": {
      "text/plain": [
       "SBrkr    1868\n",
       "FuseA     140\n",
       "FuseF      35\n",
       "FuseP       7\n",
       "Mix         1\n",
       "Name: Electrical, dtype: int64"
      ]
     },
     "execution_count": 48,
     "metadata": {},
     "output_type": "execute_result"
    }
   ],
   "source": [
    "train['Electrical'].value_counts()\n",
    "#No missing values\n",
    "#Little variation"
   ]
  },
  {
   "cell_type": "code",
   "execution_count": 49,
   "id": "955ee47d-4147-43cd-a138-d8be7676531a",
   "metadata": {
    "tags": []
   },
   "outputs": [
    {
     "data": {
      "text/plain": [
       "count    2051.000000\n",
       "mean     1164.488055\n",
       "std       396.446923\n",
       "min       334.000000\n",
       "25%       879.500000\n",
       "50%      1093.000000\n",
       "75%      1405.000000\n",
       "max      5095.000000\n",
       "Name: 1st Flr SF, dtype: float64"
      ]
     },
     "execution_count": 49,
     "metadata": {},
     "output_type": "execute_result"
    }
   ],
   "source": [
    "train['1st Flr SF'].describe()\n",
    "# No missing value\n",
    "#Values probably make sense- 334 sqft is low"
   ]
  },
  {
   "cell_type": "code",
   "execution_count": 50,
   "id": "0d696d08-e178-48a6-9f27-26a192e00c46",
   "metadata": {
    "tags": []
   },
   "outputs": [
    {
     "data": {
      "text/plain": [
       "count    2051.000000\n",
       "mean      329.329108\n",
       "std       425.671046\n",
       "min         0.000000\n",
       "25%         0.000000\n",
       "50%         0.000000\n",
       "75%       692.500000\n",
       "max      1862.000000\n",
       "Name: 2nd Flr SF, dtype: float64"
      ]
     },
     "execution_count": 50,
     "metadata": {},
     "output_type": "execute_result"
    }
   ],
   "source": [
    "train['2nd Flr SF'].describe()\n",
    "#No missing values\n",
    "#values of 0 make sense for houses with no second floow"
   ]
  },
  {
   "cell_type": "code",
   "execution_count": 51,
   "id": "bd569407-d3c7-4ace-8ceb-10b506f2c4b9",
   "metadata": {
    "tags": []
   },
   "outputs": [
    {
     "data": {
      "text/plain": [
       "count    2051.000000\n",
       "mean        5.512921\n",
       "std        51.068870\n",
       "min         0.000000\n",
       "25%         0.000000\n",
       "50%         0.000000\n",
       "75%         0.000000\n",
       "max      1064.000000\n",
       "Name: Low Qual Fin SF, dtype: float64"
      ]
     },
     "execution_count": 51,
     "metadata": {},
     "output_type": "execute_result"
    }
   ],
   "source": [
    "train['Low Qual Fin SF'].describe()\n",
    "# No missing values"
   ]
  },
  {
   "cell_type": "code",
   "execution_count": 52,
   "id": "70dd38bd-4800-4550-b6a3-98074a6fcda3",
   "metadata": {
    "tags": []
   },
   "outputs": [
    {
     "data": {
      "text/plain": [
       "count    2051.000000\n",
       "mean     1499.330083\n",
       "std       500.447829\n",
       "min       334.000000\n",
       "25%      1129.000000\n",
       "50%      1444.000000\n",
       "75%      1728.500000\n",
       "max      5642.000000\n",
       "Name: Gr Liv Area, dtype: float64"
      ]
     },
     "execution_count": 52,
     "metadata": {},
     "output_type": "execute_result"
    }
   ],
   "source": [
    "train['Gr Liv Area'].describe()\n",
    "# Minimum for this variable matches the 1st floor sf min value\n",
    "# No missing values"
   ]
  },
  {
   "cell_type": "code",
   "execution_count": 53,
   "id": "c86bc01c-3bac-4d38-9757-c6c4fb1be5ed",
   "metadata": {
    "tags": []
   },
   "outputs": [
    {
     "data": {
      "text/plain": [
       "0.0    1200\n",
       "1.0     824\n",
       "2.0      23\n",
       "3.0       2\n",
       "Name: Bsmt Full Bath, dtype: int64"
      ]
     },
     "execution_count": 53,
     "metadata": {},
     "output_type": "execute_result"
    }
   ],
   "source": [
    "train['Bsmt Full Bath'].value_counts()\n",
    "#2 missing values\n",
    "#Should this be ordinal/ categorical instead of numerical?"
   ]
  },
  {
   "cell_type": "code",
   "execution_count": 54,
   "id": "4490591f-9380-498c-9410-db2512216873",
   "metadata": {
    "tags": []
   },
   "outputs": [
    {
     "data": {
      "text/plain": [
       "0.0    1923\n",
       "1.0     122\n",
       "2.0       4\n",
       "Name: Bsmt Half Bath, dtype: int64"
      ]
     },
     "execution_count": 54,
     "metadata": {},
     "output_type": "execute_result"
    }
   ],
   "source": [
    "train['Bsmt Half Bath'].value_counts()\n",
    "#0 is by far the most common response, only 126 nonzeros"
   ]
  },
  {
   "cell_type": "code",
   "execution_count": 55,
   "id": "fd6bf033-829f-4a90-aeca-6aaf55404f03",
   "metadata": {
    "tags": []
   },
   "outputs": [
    {
     "data": {
      "text/plain": [
       "2    1096\n",
       "1     900\n",
       "3      45\n",
       "0       8\n",
       "4       2\n",
       "Name: Full Bath, dtype: int64"
      ]
     },
     "execution_count": 55,
     "metadata": {},
     "output_type": "execute_result"
    }
   ],
   "source": [
    "train['Full Bath'].value_counts()\n",
    "# ordinal/ categorical instead of numerical?\n",
    "# No missing values"
   ]
  },
  {
   "cell_type": "code",
   "execution_count": 60,
   "id": "8f7982c7-4c83-4795-ad37-94b224d0eeb8",
   "metadata": {},
   "outputs": [
    {
     "data": {
      "text/plain": [
       "0    1308\n",
       "1     725\n",
       "2      18\n",
       "Name: Half Bath, dtype: int64"
      ]
     },
     "execution_count": 60,
     "metadata": {},
     "output_type": "execute_result"
    }
   ],
   "source": [
    "train['Half Bath'].value_counts()"
   ]
  },
  {
   "cell_type": "code",
   "execution_count": 63,
   "id": "003a00c2-727b-4c44-94ee-04709608f21c",
   "metadata": {},
   "outputs": [
    {
     "data": {
      "text/plain": [
       "3    1108\n",
       "2     544\n",
       "4     265\n",
       "1      75\n",
       "5      41\n",
       "6      12\n",
       "0       5\n",
       "8       1\n",
       "Name: Bedroom AbvGr, dtype: int64"
      ]
     },
     "execution_count": 63,
     "metadata": {},
     "output_type": "execute_result"
    }
   ],
   "source": [
    "train['Bedroom AbvGr'].value_counts()"
   ]
  },
  {
   "cell_type": "code",
   "execution_count": 65,
   "id": "06b333b8-cd82-429a-b51d-a4b475c610e5",
   "metadata": {},
   "outputs": [
    {
     "data": {
      "text/plain": [
       "1    1960\n",
       "2      88\n",
       "0       2\n",
       "3       1\n",
       "Name: Kitchen AbvGr, dtype: int64"
      ]
     },
     "execution_count": 65,
     "metadata": {},
     "output_type": "execute_result"
    }
   ],
   "source": [
    "train['Kitchen AbvGr'].value_counts()"
   ]
  },
  {
   "cell_type": "code",
   "execution_count": 66,
   "id": "5857971c-5d33-4600-8559-0ce459b95fb1",
   "metadata": {},
   "outputs": [
    {
     "data": {
      "text/plain": [
       "TA    1047\n",
       "Gd     806\n",
       "Ex     151\n",
       "Fa      47\n",
       "Name: Kitchen Qual, dtype: int64"
      ]
     },
     "execution_count": 66,
     "metadata": {},
     "output_type": "execute_result"
    }
   ],
   "source": [
    "train['Kitchen Qual'].value_counts()"
   ]
  },
  {
   "cell_type": "code",
   "execution_count": 68,
   "id": "dbf137a7-58ab-4e52-8462-9c7f3c79429e",
   "metadata": {},
   "outputs": [
    {
     "data": {
      "text/plain": [
       "6     597\n",
       "7     475\n",
       "5     407\n",
       "8     228\n",
       "4     146\n",
       "9      98\n",
       "10     49\n",
       "11     22\n",
       "12     13\n",
       "3      12\n",
       "14      1\n",
       "2       1\n",
       "13      1\n",
       "15      1\n",
       "Name: TotRms AbvGrd, dtype: int64"
      ]
     },
     "execution_count": 68,
     "metadata": {},
     "output_type": "execute_result"
    }
   ],
   "source": [
    "train['TotRms AbvGrd'].value_counts()"
   ]
  },
  {
   "cell_type": "code",
   "execution_count": 69,
   "id": "2bfb5149-722e-4aed-9d4a-a940091c1eae",
   "metadata": {},
   "outputs": [
    {
     "data": {
      "text/plain": [
       "Typ     1915\n",
       "Min2      42\n",
       "Min1      42\n",
       "Mod       29\n",
       "Maj1      12\n",
       "Maj2       7\n",
       "Sev        2\n",
       "Sal        2\n",
       "Name: Functional, dtype: int64"
      ]
     },
     "execution_count": 69,
     "metadata": {},
     "output_type": "execute_result"
    }
   ],
   "source": [
    "train['Functional'].value_counts()"
   ]
  },
  {
   "cell_type": "code",
   "execution_count": 70,
   "id": "8b6374f6-27aa-4874-a53c-a90b2b91a431",
   "metadata": {
    "tags": []
   },
   "outputs": [
    {
     "data": {
      "text/plain": [
       "0    1000\n",
       "1     898\n",
       "2     146\n",
       "3       6\n",
       "4       1\n",
       "Name: Fireplaces, dtype: int64"
      ]
     },
     "execution_count": 70,
     "metadata": {},
     "output_type": "execute_result"
    }
   ],
   "source": [
    "train['Fireplaces'].value_counts()"
   ]
  },
  {
   "cell_type": "code",
   "execution_count": 71,
   "id": "bb2529ed-9034-49b7-a481-65d79955d9ad",
   "metadata": {
    "tags": []
   },
   "outputs": [
    {
     "data": {
      "text/plain": [
       "Gd    523\n",
       "TA    407\n",
       "Fa     59\n",
       "Po     31\n",
       "Ex     31\n",
       "Name: Fireplace Qu, dtype: int64"
      ]
     },
     "execution_count": 71,
     "metadata": {},
     "output_type": "execute_result"
    }
   ],
   "source": [
    "train['Fireplace Qu'].value_counts()\n",
    "#Only have 1051 values, supposed to be NA for missing"
   ]
  },
  {
   "cell_type": "code",
   "execution_count": 72,
   "id": "57e41fa3-13e0-4030-a6ab-c55c3b74234f",
   "metadata": {
    "tags": []
   },
   "outputs": [
    {
     "data": {
      "text/plain": [
       "Attchd     1213\n",
       "Detchd      536\n",
       "BuiltIn     132\n",
       "Basment      27\n",
       "2Types       19\n",
       "CarPort      11\n",
       "Name: Garage Type, dtype: int64"
      ]
     },
     "execution_count": 72,
     "metadata": {},
     "output_type": "execute_result"
    }
   ],
   "source": [
    "train['Garage Type'].value_counts()\n",
    "#Missing values are probably NA"
   ]
  },
  {
   "cell_type": "code",
   "execution_count": 75,
   "id": "3ea836fa-53b1-41a6-9dbe-44abf486bdd2",
   "metadata": {
    "tags": []
   },
   "outputs": [
    {
     "data": {
      "text/plain": [
       "count    1937.000000\n",
       "mean     1978.707796\n",
       "std        25.441094\n",
       "min      1895.000000\n",
       "25%      1961.000000\n",
       "50%      1980.000000\n",
       "75%      2002.000000\n",
       "max      2207.000000\n",
       "Name: Garage Yr Blt, dtype: float64"
      ]
     },
     "execution_count": 75,
     "metadata": {},
     "output_type": "execute_result"
    }
   ],
   "source": [
    "train['Garage Yr Blt'].describe()"
   ]
  },
  {
   "cell_type": "code",
   "execution_count": 77,
   "id": "86bf1b20-a057-4059-92e0-010e0cea8745",
   "metadata": {
    "tags": []
   },
   "outputs": [
    {
     "data": {
      "text/plain": [
       "Unf    849\n",
       "RFn    579\n",
       "Fin    509\n",
       "Name: Garage Finish, dtype: int64"
      ]
     },
     "execution_count": 77,
     "metadata": {},
     "output_type": "execute_result"
    }
   ],
   "source": [
    "train['Garage Finish'].value_counts()\n",
    "#Once again, all missings should be NA"
   ]
  },
  {
   "cell_type": "code",
   "execution_count": 78,
   "id": "c90479a8-ac17-4266-be25-e05bf59de522",
   "metadata": {
    "tags": []
   },
   "outputs": [
    {
     "data": {
      "text/plain": [
       "2.0    1136\n",
       "1.0     524\n",
       "3.0     263\n",
       "0.0     113\n",
       "4.0      13\n",
       "5.0       1\n",
       "Name: Garage Cars, dtype: int64"
      ]
     },
     "execution_count": 78,
     "metadata": {},
     "output_type": "execute_result"
    }
   ],
   "source": [
    "train['Garage Cars'].value_counts()"
   ]
  },
  {
   "cell_type": "code",
   "execution_count": 79,
   "id": "7d656cf1-ec8e-4fb4-9314-3c5b521e9a13",
   "metadata": {
    "tags": []
   },
   "outputs": [
    {
     "data": {
      "text/plain": [
       "count    2050.000000\n",
       "mean      473.671707\n",
       "std       215.934561\n",
       "min         0.000000\n",
       "25%       319.000000\n",
       "50%       480.000000\n",
       "75%       576.000000\n",
       "max      1418.000000\n",
       "Name: Garage Area, dtype: float64"
      ]
     },
     "execution_count": 79,
     "metadata": {},
     "output_type": "execute_result"
    }
   ],
   "source": [
    "train['Garage Area'].describe()"
   ]
  },
  {
   "cell_type": "code",
   "execution_count": 80,
   "id": "c8f66d10-e9b8-4613-86d0-94a176ec6a13",
   "metadata": {
    "tags": []
   },
   "outputs": [
    {
     "data": {
      "text/plain": [
       "TA    1832\n",
       "Fa      82\n",
       "Gd      18\n",
       "Ex       3\n",
       "Po       2\n",
       "Name: Garage Qual, dtype: int64"
      ]
     },
     "execution_count": 80,
     "metadata": {},
     "output_type": "execute_result"
    }
   ],
   "source": [
    "train['Garage Qual'].value_counts()\n",
    "#Few values are not TA"
   ]
  },
  {
   "cell_type": "code",
   "execution_count": 81,
   "id": "e6312e77-816d-4b67-960d-e7333a63917e",
   "metadata": {
    "tags": []
   },
   "outputs": [
    {
     "data": {
      "text/plain": [
       "TA    1868\n",
       "Fa      47\n",
       "Gd      12\n",
       "Po       8\n",
       "Ex       2\n",
       "Name: Garage Cond, dtype: int64"
      ]
     },
     "execution_count": 81,
     "metadata": {},
     "output_type": "execute_result"
    }
   ],
   "source": [
    "train['Garage Cond'].value_counts()"
   ]
  },
  {
   "cell_type": "code",
   "execution_count": 82,
   "id": "8422d8ca-e9de-44f6-b9ce-7263bf89aa87",
   "metadata": {
    "tags": []
   },
   "outputs": [
    {
     "data": {
      "text/plain": [
       "Y    1861\n",
       "N     151\n",
       "P      39\n",
       "Name: Paved Drive, dtype: int64"
      ]
     },
     "execution_count": 82,
     "metadata": {},
     "output_type": "execute_result"
    }
   ],
   "source": [
    "train['Paved Drive'].value_counts()\n",
    "#Mostly yesses, no missing"
   ]
  },
  {
   "cell_type": "code",
   "execution_count": 83,
   "id": "f4d375af-aba8-4c35-ac7f-134da56b9ce9",
   "metadata": {
    "tags": []
   },
   "outputs": [
    {
     "data": {
      "text/plain": [
       "count    2051.000000\n",
       "mean       93.833740\n",
       "std       128.549416\n",
       "min         0.000000\n",
       "25%         0.000000\n",
       "50%         0.000000\n",
       "75%       168.000000\n",
       "max      1424.000000\n",
       "Name: Wood Deck SF, dtype: float64"
      ]
     },
     "execution_count": 83,
     "metadata": {},
     "output_type": "execute_result"
    }
   ],
   "source": [
    "train['Wood Deck SF'].describe()"
   ]
  },
  {
   "cell_type": "code",
   "execution_count": 84,
   "id": "7ca37c9b-5b25-44f5-bbed-6bff3fdb4324",
   "metadata": {
    "tags": []
   },
   "outputs": [
    {
     "data": {
      "text/plain": [
       "count    2051.000000\n",
       "mean       47.556802\n",
       "std        66.747241\n",
       "min         0.000000\n",
       "25%         0.000000\n",
       "50%        27.000000\n",
       "75%        70.000000\n",
       "max       547.000000\n",
       "Name: Open Porch SF, dtype: float64"
      ]
     },
     "execution_count": 84,
     "metadata": {},
     "output_type": "execute_result"
    }
   ],
   "source": [
    "train['Open Porch SF'].describe()"
   ]
  },
  {
   "cell_type": "code",
   "execution_count": 86,
   "id": "28584224-9c1d-4630-a438-6b7bb628a507",
   "metadata": {
    "tags": []
   },
   "outputs": [
    {
     "data": {
      "text/plain": [
       "count    2051.000000\n",
       "mean       22.571916\n",
       "std        59.845110\n",
       "min         0.000000\n",
       "25%         0.000000\n",
       "50%         0.000000\n",
       "75%         0.000000\n",
       "max       432.000000\n",
       "Name: Enclosed Porch, dtype: float64"
      ]
     },
     "execution_count": 86,
     "metadata": {},
     "output_type": "execute_result"
    }
   ],
   "source": [
    "train['Enclosed Porch'].describe()"
   ]
  },
  {
   "cell_type": "code",
   "execution_count": 88,
   "id": "3d857e4f-ff0d-4a6a-960a-5673b8253b39",
   "metadata": {},
   "outputs": [
    {
     "data": {
      "text/plain": [
       "count    2051.000000\n",
       "mean        2.591419\n",
       "std        25.229615\n",
       "min         0.000000\n",
       "25%         0.000000\n",
       "50%         0.000000\n",
       "75%         0.000000\n",
       "max       508.000000\n",
       "Name: 3Ssn Porch, dtype: float64"
      ]
     },
     "execution_count": 88,
     "metadata": {},
     "output_type": "execute_result"
    }
   ],
   "source": [
    "train['3Ssn Porch'].describe()"
   ]
  },
  {
   "cell_type": "code",
   "execution_count": 89,
   "id": "f504338a-280b-46ad-a5dd-0d5d82e56de9",
   "metadata": {
    "tags": []
   },
   "outputs": [
    {
     "data": {
      "text/plain": [
       "count    2051.000000\n",
       "mean       16.511458\n",
       "std        57.374204\n",
       "min         0.000000\n",
       "25%         0.000000\n",
       "50%         0.000000\n",
       "75%         0.000000\n",
       "max       490.000000\n",
       "Name: Screen Porch, dtype: float64"
      ]
     },
     "execution_count": 89,
     "metadata": {},
     "output_type": "execute_result"
    }
   ],
   "source": [
    "train['Screen Porch'].describe()"
   ]
  },
  {
   "cell_type": "code",
   "execution_count": 90,
   "id": "7b5ddeb6-c248-4111-afdd-143e44589e1b",
   "metadata": {
    "tags": []
   },
   "outputs": [
    {
     "data": {
      "text/plain": [
       "count    2051.000000\n",
       "mean        2.397855\n",
       "std        37.782570\n",
       "min         0.000000\n",
       "25%         0.000000\n",
       "50%         0.000000\n",
       "75%         0.000000\n",
       "max       800.000000\n",
       "Name: Pool Area, dtype: float64"
      ]
     },
     "execution_count": 90,
     "metadata": {},
     "output_type": "execute_result"
    }
   ],
   "source": [
    "train['Pool Area'].describe()"
   ]
  },
  {
   "cell_type": "code",
   "execution_count": 93,
   "id": "9a159702-48d1-45db-8663-0bd49811c5e9",
   "metadata": {
    "tags": []
   },
   "outputs": [
    {
     "data": {
      "text/plain": [
       "Gd    4\n",
       "Fa    2\n",
       "TA    2\n",
       "Ex    1\n",
       "Name: Pool QC, dtype: int64"
      ]
     },
     "execution_count": 93,
     "metadata": {},
     "output_type": "execute_result"
    }
   ],
   "source": [
    "train['Pool QC'].value_counts()\n",
    "#Only 9 values"
   ]
  },
  {
   "cell_type": "code",
   "execution_count": 94,
   "id": "13277728-3ccb-47be-ac70-b35db33fde42",
   "metadata": {
    "tags": []
   },
   "outputs": [
    {
     "data": {
      "text/plain": [
       "MnPrv    227\n",
       "GdPrv     83\n",
       "GdWo      80\n",
       "MnWw      10\n",
       "Name: Fence, dtype: int64"
      ]
     },
     "execution_count": 94,
     "metadata": {},
     "output_type": "execute_result"
    }
   ],
   "source": [
    "train['Fence'].value_counts()\n",
    "#Only 400 values\n",
    "#Is it safe to assume the other values are NA??"
   ]
  },
  {
   "cell_type": "code",
   "execution_count": 95,
   "id": "a568231a-ccfd-4d20-b4bd-f066b8370423",
   "metadata": {
    "tags": []
   },
   "outputs": [
    {
     "data": {
      "text/plain": [
       "Shed    56\n",
       "Gar2     4\n",
       "Othr     3\n",
       "TenC     1\n",
       "Elev     1\n",
       "Name: Misc Feature, dtype: int64"
      ]
     },
     "execution_count": 95,
     "metadata": {},
     "output_type": "execute_result"
    }
   ],
   "source": [
    "train['Misc Feature'].value_counts()"
   ]
  },
  {
   "cell_type": "code",
   "execution_count": 98,
   "id": "42eb28d2-8e7e-426d-a08b-b81f9478dc13",
   "metadata": {
    "tags": []
   },
   "outputs": [
    {
     "data": {
      "text/plain": [
       "count     2051.000000\n",
       "mean        51.574354\n",
       "std        573.393985\n",
       "min          0.000000\n",
       "25%          0.000000\n",
       "50%          0.000000\n",
       "75%          0.000000\n",
       "max      17000.000000\n",
       "Name: Misc Val, dtype: float64"
      ]
     },
     "execution_count": 98,
     "metadata": {},
     "output_type": "execute_result"
    }
   ],
   "source": [
    "train['Misc Val'].describe()"
   ]
  },
  {
   "cell_type": "code",
   "execution_count": 99,
   "id": "f5f7330d-142e-498c-889e-6842ed426f80",
   "metadata": {
    "tags": []
   },
   "outputs": [
    {
     "data": {
      "text/plain": [
       "6     352\n",
       "7     303\n",
       "5     257\n",
       "4     208\n",
       "3     168\n",
       "8     167\n",
       "10    123\n",
       "9     109\n",
       "2     104\n",
       "11    103\n",
       "1      79\n",
       "12     78\n",
       "Name: Mo Sold, dtype: int64"
      ]
     },
     "execution_count": 99,
     "metadata": {},
     "output_type": "execute_result"
    }
   ],
   "source": [
    "train['Mo Sold'].value_counts()"
   ]
  },
  {
   "cell_type": "code",
   "execution_count": 101,
   "id": "c9747fbf-b995-499e-a5b4-5c67cf6c6517",
   "metadata": {
    "tags": []
   },
   "outputs": [
    {
     "data": {
      "text/plain": [
       "2007    498\n",
       "2009    446\n",
       "2006    438\n",
       "2008    435\n",
       "2010    234\n",
       "Name: Yr Sold, dtype: int64"
      ]
     },
     "execution_count": 101,
     "metadata": {},
     "output_type": "execute_result"
    }
   ],
   "source": [
    "train['Yr Sold'].value_counts()"
   ]
  },
  {
   "cell_type": "code",
   "execution_count": 102,
   "id": "eda98784-5493-4b74-9c21-0b7bb1e93ea7",
   "metadata": {
    "tags": []
   },
   "outputs": [
    {
     "data": {
      "text/plain": [
       "WD       1781\n",
       "New       160\n",
       "COD        63\n",
       "ConLD      17\n",
       "CWD        10\n",
       "ConLI       7\n",
       "ConLw       5\n",
       "Con         4\n",
       "Oth         4\n",
       "Name: Sale Type, dtype: int64"
      ]
     },
     "execution_count": 102,
     "metadata": {},
     "output_type": "execute_result"
    }
   ],
   "source": [
    "train['Sale Type'].value_counts()"
   ]
  },
  {
   "cell_type": "code",
   "execution_count": 104,
   "id": "171b1646-8521-48c9-9107-7c3fb116d1ba",
   "metadata": {
    "tags": []
   },
   "outputs": [
    {
     "data": {
      "text/plain": [
       "count      2051.000000\n",
       "mean     181469.701609\n",
       "std       79258.659352\n",
       "min       12789.000000\n",
       "25%      129825.000000\n",
       "50%      162500.000000\n",
       "75%      214000.000000\n",
       "max      611657.000000\n",
       "Name: SalePrice, dtype: float64"
      ]
     },
     "execution_count": 104,
     "metadata": {},
     "output_type": "execute_result"
    }
   ],
   "source": [
    "train['SalePrice'].describe()"
   ]
  },
  {
   "cell_type": "code",
   "execution_count": null,
   "id": "9951727b-0d57-4ff1-abd5-50cd80e23e80",
   "metadata": {},
   "outputs": [],
   "source": []
  },
  {
   "cell_type": "code",
   "execution_count": null,
   "id": "8a7f63b2-3797-4fc6-babf-1ebcb0950ca4",
   "metadata": {},
   "outputs": [],
   "source": []
  },
  {
   "cell_type": "code",
   "execution_count": null,
   "id": "ca00f9e1-a715-459c-92c9-c1b30bb8cd9a",
   "metadata": {},
   "outputs": [],
   "source": []
  },
  {
   "cell_type": "markdown",
   "id": "23ac0158-3e26-4654-b988-c1abf73fc68b",
   "metadata": {},
   "source": [
    "Variables that should be dropped\n",
    "- 'Utilities': only 2 values that are not \"AllPub\"- no predictive value\n",
    "- 'Alley': Too many missing variables, no way to predict this variable or handle the missing values \n",
    "- 'Condition 2': only about 26 values that are non-Norm\n",
    "- 'Roof Matl': Only 26 values that are varied\n",
    "- 'Heating'\n",
    "- 'Pool QC'\n",
    "- 'Misc Feature'\n",
    "\n",
    "\n",
    "Variables that maybe should be dropped:\n",
    "- Land Slope: Only ~100 out of 2000 observations that are not Gtl (But for the non Gtl, is this signficant?, especially severe slope?)\n",
    "- Central Air: Only 141 Ns, but would that be significant?\n",
    "- 'Electrical'\n",
    "- 'Bsmt Half Bath'\n",
    "- 'Low Qual Fin SF'\n",
    "\n",
    "\n",
    "Variables that may be could be combined?\n",
    "- Porch SF\n",
    "- "
   ]
  },
  {
   "cell_type": "code",
   "execution_count": null,
   "id": "2842c291-b960-4d89-8e88-94544a5dfb7b",
   "metadata": {},
   "outputs": [],
   "source": []
  },
  {
   "cell_type": "code",
   "execution_count": null,
   "id": "2a17d67e-aca8-4f5a-98c7-f71eac37e3c3",
   "metadata": {},
   "outputs": [],
   "source": []
  },
  {
   "cell_type": "markdown",
   "id": "42be1670-6e67-423e-8474-22383983d8a6",
   "metadata": {},
   "source": [
    "Type errors:\n",
    "- MS SubClass\n",
    "\n",
    "Type decisions:\n",
    "-Ordinal variables such as:\n",
    "- OverallQual\n",
    "- OverallCond"
   ]
  }
 ],
 "metadata": {
  "kernelspec": {
   "display_name": "Python 3 (ipykernel)",
   "language": "python",
   "name": "python3"
  },
  "language_info": {
   "codemirror_mode": {
    "name": "ipython",
    "version": 3
   },
   "file_extension": ".py",
   "mimetype": "text/x-python",
   "name": "python",
   "nbconvert_exporter": "python",
   "pygments_lexer": "ipython3",
   "version": "3.11.4"
  }
 },
 "nbformat": 4,
 "nbformat_minor": 5
}
